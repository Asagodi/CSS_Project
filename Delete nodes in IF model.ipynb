{
 "cells": [
  {
   "cell_type": "code",
   "execution_count": 10,
   "metadata": {
    "collapsed": true
   },
   "outputs": [],
   "source": [
    "import numpy as np\n",
    "import networkx as nx\n",
    "import math\n",
    "import random\n",
    "\n",
    "import tqdm\n",
    "\n",
    "import matplotlib.pyplot as plt"
   ]
  },
  {
   "cell_type": "code",
   "execution_count": 8,
   "metadata": {
    "collapsed": true
   },
   "outputs": [],
   "source": [
    "def aging_barabasi_albert_graph(N,alpha,m=2,m0=2):\n",
    "    \"\"\"\n",
    "    Implements the modified barabasi-albert model given\n",
    "    in the paper titled \"Self-organized Criticality in an \n",
    "    Integrate-and-Fire Neuron Model Based on Modified Aging Networks\".\n",
    "    \n",
    "    Each time step a random node is chosen based on its age to generate\n",
    "    a new node linked to it, which also links to its (m-1) nearest neighbors\n",
    "    with a probability given by the standard barabasi-albert model.\n",
    "    \n",
    "    N: int\n",
    "        Network size\n",
    "    alpha: float\n",
    "        Age factor which influences probabilities based on age\n",
    "    m: int\n",
    "        Number of links for each new node\n",
    "    m0: int\n",
    "        Initial size of the network\n",
    "    \"\"\"\n",
    "    \n",
    "    # Initialize fully connected graph with m0 nodes\n",
    "    graph = nx.complete_graph(m0)\n",
    "    \n",
    "    age = np.ones(N)\n",
    "    for n in range(m0,N):\n",
    "        # Get degrees for all current nodes in array form\n",
    "        degrees = np.array(list(graph.degree(np.arange(n)).values()))\n",
    "        \n",
    "        # Calculate pmf for a node to generate new node\n",
    "        i_probs = degrees / age[:n]**(alpha)\n",
    "        i_probs /= np.sum(i_probs)\n",
    "        \n",
    "        # Choose a random node i\n",
    "        i = np.random.choice(np.arange(n),p=i_probs)\n",
    "        \n",
    "        # neighbors j of i\n",
    "        neighbors = np.array(graph.neighbors(i))\n",
    "        \n",
    "        # Calculate pmf for linked nearest neighbors of i\n",
    "        j_probs = degrees[neighbors] / np.sum(degrees[neighbors])\n",
    "        \n",
    "        # Choose a random node i\n",
    "        j = list(np.random.choice(neighbors,size=(m-1),replace=False,p=j_probs))\n",
    "        \n",
    "        # Add node to network with chosen edges\n",
    "        graph.add_edges_from(zip([n]*m,[i] + j))\n",
    "        \n",
    "        # Advance the time and apply to age of nodes\n",
    "        age[:n] += 1\n",
    "    \n",
    "    return graph"
   ]
  },
  {
   "cell_type": "code",
   "execution_count": 18,
   "metadata": {
    "collapsed": true
   },
   "outputs": [],
   "source": [
    "def create_if_network(num_nodes,num_edges=10,p=0.5,alpha=1,net_type=\"full\"):\n",
    "    if net_type == 'random':\n",
    "        graph = nx.gnp_random_graph(num_nodes,p)\n",
    "    elif net_type == 'ws':\n",
    "        graph = nx.watts_strogatz_graph(num_nodes, num_edges, p)\n",
    "    elif net_type == 'ba':\n",
    "        graph = nx.barabasi_albert_graph(num_nodes, num_edges)\n",
    "    elif net_type == 'aging':\n",
    "        graph = aging_barabasi_albert_graph(num_nodes,alpha,m=num_edges,m0=num_edges)\n",
    "    elif net_type == 'full':\n",
    "        graph = nx.complete_graph(num_nodes)\n",
    "        \n",
    "    return graph\n",
    "\n",
    "class simple_integrate_and_fire_model:\n",
    "    \"\"\"\n",
    "    Implements a simplified version of the integrate and fire\n",
    "    model described in https://arxiv.org/pdf/0712.1003.pdf using\n",
    "    separated time-scales where the driving rate is much slower\n",
    "    than the relaxation rate. This makes a rule-based algorithm with\n",
    "    a driving step followed by a relaxation step where an avalanche\n",
    "    is allowed to complete before the next drive step, much like\n",
    "    the BTW sandpile model.\n",
    "    \n",
    "    For the sake of simplicity the leak terms and dynamic synapses\n",
    "    are left out due to the smaller time scales at which they are influential.\n",
    "    \n",
    "    The model does include the possibility of inhibitory neurons or synapses.\n",
    "    \"\"\"\n",
    "    \n",
    "    def __init__(self,network,v_ext=0.025,v_th=1,u=0.2,J=4,p_inh=0.0,inh_type=\"neuron\"):\n",
    "        # Set parameters\n",
    "        self.network = network\n",
    "        self.v_ext = v_ext\n",
    "        self.v_th = v_th\n",
    "        self.u = u\n",
    "        self.J = J\n",
    "        \n",
    "        # Initialize weight matrix from network\n",
    "        self.w = nx.adjacency_matrix(network)\n",
    "        \n",
    "        # Link indices in weight matrix\n",
    "        self.link_idx = (self.w != 0)\n",
    "        \n",
    "        # Network size\n",
    "        self.N = self.w.shape[0]\n",
    "        \n",
    "        # Determine synapse types\n",
    "        self.synapse_types = self.w.astype(int)\n",
    "        \n",
    "        # Inhibition determined per synapse\n",
    "        if inh_type == \"synapse\":\n",
    "            n_inh = int(p_inh * self.synapse_types.size)\n",
    "\n",
    "            type_vals = np.ones(self.synapse_types.size)\n",
    "            if n_inh > 0:\n",
    "                inhibitory = np.random.choice(np.arange(self.synapse_types.size),size=n_inh,replace=False)\n",
    "                type_vals[inhibitory] = -1\n",
    "\n",
    "            self.synapse_types[self.link_idx] = type_vals\n",
    "        \n",
    "        # Inhibition determined per neuron\n",
    "        elif inh_type == \"neuron\":\n",
    "            n_inh = int(p_inh * self.N)\n",
    "            \n",
    "            if n_inh > 0:\n",
    "                inhibitory = np.random.choice(np.arange(self.N),size=n_inh,replace=False)\n",
    "                self.synapse_types[:,inhibitory] *= -1\n",
    "        \n",
    "        # Retrieve J_ij (given as w) from w\n",
    "        self.w = J * self.w\n",
    "        \n",
    "        # Initialize membrane potentials randomly\n",
    "        self.v = np.random.uniform(0,self.v_th,self.w.shape[0])\n",
    "        \n",
    "        # Statistics\n",
    "        self.avalanche_size = np.array([],dtype=int)\n",
    "        \n",
    "    def simulate(self,steps):\n",
    "        avalanche_size = np.zeros(steps,dtype=int)\n",
    "        \n",
    "        with tqdm.tqdm(total=steps) as pbar:\n",
    "            for t in range(steps):\n",
    "                # Drive step\n",
    "                i = np.random.randint(self.v.size)\n",
    "                self.v[i] += self.v_ext\n",
    "\n",
    "                # Initialize check list\n",
    "                check_nodes = [i]\n",
    "\n",
    "                # Relaxation step\n",
    "                s = 0\n",
    "                while len(check_nodes) > 0:\n",
    "                    i = check_nodes.pop(0)\n",
    "\n",
    "                    if self.v[i] > self.v_th:\n",
    "                        # number of neighbors of i\n",
    "                        n = np.sum(self.w[:,i].size)\n",
    "\n",
    "                        # neighbor indices\n",
    "                        j = self.w[:,i].nonzero()[0]\n",
    "\n",
    "                        # Spiking results in firing potential to neighbors\n",
    "                        self.v[j] += self.synapse_types[j,i].toarray().flatten() * \\\n",
    "                                     self.u*self.w[j,i].toarray().flatten() / n\n",
    "\n",
    "                        # Add neighbors to check list\n",
    "                        check_nodes += [elem for elem in list(j) if elem not in check_nodes]\n",
    "\n",
    "                        # Subtract threshold potential after spike\n",
    "                        self.v[i] -= self.v_th\n",
    "\n",
    "                        # Increase current avalanche size\n",
    "                        s += 1\n",
    "\n",
    "                # Enforce minimum potential of zero\n",
    "                self.v[self.v < 0] = 0\n",
    "                        \n",
    "                avalanche_size[t] = s\n",
    "                \n",
    "                pbar.update()\n",
    "            \n",
    "        self.avalanche_size = np.concatenate((self.avalanche_size,avalanche_size))\n",
    "        \n",
    "    def reset_avalanche_stats(self):\n",
    "        self.avalanche_size = np.array([],dtype=int)\n",
    "        \n",
    "    def avalanche_size_pdf(self):\n",
    "        pdf = np.bincount(self.avalanche_size) / self.avalanche_size.size\n",
    "        \n",
    "        nonzeros = (pdf != 0)\n",
    "        indices = np.arange(nonzeros.size)[nonzeros]\n",
    "        \n",
    "        return indices,pdf[nonzeros]\n",
    "\n",
    "class LHG_integrate_and_fire_model:\n",
    "    \"\"\"\n",
    "    Implements the leaky integrate and fire model described in \n",
    "    https://ediss.uni-goettingen.de/bitstream/handle/11858/00-1735-0000-0006-B3B3-B/levina.pdf?sequence=1.\n",
    "    \n",
    "    The algorithm allows for leak terms, dynamic synapses and inhibition.\n",
    "    \n",
    "    The model operates on the assumption of separated time scales. Meaning that a neuronal\n",
    "    avalanche is allowed to complete long before the next external input is applied. This\n",
    "    means that the system is slowly driven and reacts quickly to any perturbation. The\n",
    "    discretization is done by setting the driving rate to 1 and setting the time step\n",
    "    size equal to the driving rate. The relaxation is assumed to be fast enough to \n",
    "    happen instantly after the driving step and to finish at around the same time (t + dt ~ t). \n",
    "    This is done due to the event driven nature of the system dynamics.\n",
    "    \n",
    "    Leakage and synapse recovery are both applied using the values at the start \n",
    "    of the time step for the time integration.\n",
    "    \n",
    "    Inhibition is implemented in two possible ways: \n",
    "    (1) Ignoring Dale's principle and taking a percentage of the \n",
    "    synapses to be inhibitory or (2) obeying Dale's principle and\n",
    "    taking a percentage of the neurons to be inhibitory.\n",
    "    \n",
    "    TODO:\n",
    "    - Implement leak terms - done (Levina claims: no relevant dynamics changes)\n",
    "    - Implement dynamic synapses - done\n",
    "    - Implement inhibitory neurons - done (Levina claims: no relevant dynamics changes)\n",
    "    \"\"\"\n",
    "    \n",
    "    def __init__(self,network,v_ext=0.025,v_th=1,u=0.2,a=0.5,\n",
    "                 nu=10,tl=40,C=0.98,leakage=False,p_inh=0.0,inh_type=\"neuron\"):\n",
    "        \"\"\"\n",
    "        network: networkx network object\n",
    "            Network used for the simulation\n",
    "        v_ext: float\n",
    "            External input added to the potential \n",
    "            of a neuron during the driving step\n",
    "        v_th: float\n",
    "            Membrane potential treshold\n",
    "        u: float\n",
    "            Transmitter resource usage / \n",
    "            saturation constant of synaptic strength\n",
    "        \n",
    "        Dynamic synapse parameters:\n",
    "            a: float\n",
    "                Maximum connection strength parameter (a / u = J_max)\n",
    "            nu: float\n",
    "                Synaptic recovery time scale parameter\n",
    "        \n",
    "        Leak term parameters:\n",
    "            tl: float\n",
    "                Rate of leakage from a node\n",
    "            C: float\n",
    "                Compensatory synaptic current\n",
    "            leakage: bool\n",
    "                Determine if leakage occurs\n",
    "                \n",
    "        p_inh: float\n",
    "            Percentage of inhibitory synapses\n",
    "        inh_type: string (\"neuron\" or \"synapse\")\n",
    "            Type of inhibition: per synapse (ignoring Dale's principle)\n",
    "            or per neuron (obeying Dale's principle)\n",
    "        \"\"\"\n",
    "        \n",
    "        # Set parameters\n",
    "        self.network = network\n",
    "        self.v_ext = v_ext\n",
    "        self.v_th = v_th\n",
    "        self.u = u\n",
    "        self.a = a\n",
    "        self.nu = nu\n",
    "        self.tl = tl\n",
    "        self.C = C\n",
    "        self.leakage = leakage\n",
    "        \n",
    "        # Retrieve J_ij (weight matrix w) from network\n",
    "        self.w = nx.adjacency_matrix(network)\n",
    "        \n",
    "        # Link indices in weight matrix\n",
    "        self.link_idx = (self.w != 0)\n",
    "        \n",
    "        # Network size\n",
    "        self.N = self.w.shape[0]\n",
    "        \n",
    "        # Determine synapse types\n",
    "        self.synapse_types = self.w.astype(int)\n",
    "        \n",
    "        # Inhibition determined per synapse\n",
    "        if inh_type == \"synapse\":\n",
    "            n_inh = int(p_inh * self.synapse_types.size)\n",
    "\n",
    "            type_vals = np.ones(self.synapse_types.size)\n",
    "            if n_inh > 0:\n",
    "                inhibitory = np.random.choice(np.arange(self.synapse_types.size),size=n_inh,replace=False)\n",
    "                type_vals[inhibitory] = -1\n",
    "\n",
    "            self.synapse_types[self.link_idx] = type_vals\n",
    "        \n",
    "        # Inhibition determined per neuron\n",
    "        elif inh_type == \"neuron\":\n",
    "            n_inh = int(p_inh * self.N)\n",
    "            \n",
    "            if n_inh > 0:\n",
    "                inhibitory = np.random.choice(np.arange(self.N),size=n_inh,replace=False)\n",
    "                self.synapse_types[:,inhibitory] *= -1\n",
    "        \n",
    "        # Randomize synaptic connection strengths\n",
    "        self.w = self.w.astype(float)\n",
    "        self.w[self.link_idx] = np.random.uniform(0,self.a/self.u,self.link_idx.size)\n",
    "        \n",
    "        # Synaptic recovery time-scale\n",
    "        self.tj = self.nu * self.N\n",
    "        \n",
    "        # Initialize membrane potentials randomly\n",
    "        self.v = np.random.uniform(0,self.v_th,self.N)\n",
    "        \n",
    "        # Statistics\n",
    "        self.avalanche_size = np.array([],dtype=int)\n",
    "        \n",
    "    def simulate(self,steps):\n",
    "        # Analytics to be collected\n",
    "        avalanche_size = np.zeros(steps,dtype=int)\n",
    "        \n",
    "        weights = []\n",
    "        \n",
    "        with tqdm.tqdm(total=steps) as pbar:\n",
    "            for t in range(steps):\n",
    "                \n",
    "                weights.append(self.w)\n",
    "                \n",
    "                # Apply leakage terms\n",
    "                if self.leakage:\n",
    "                    self.v += self.C - self.v / self.tl\n",
    "                \n",
    "                # Drive step\n",
    "                i = np.random.randint(self.v.size)\n",
    "                self.v[i] += self.v_ext\n",
    "\n",
    "                # Synaptic recovery term\n",
    "                J_rec = (self.a / self.u - self.w[self.link_idx]) / self.tj\n",
    "                \n",
    "                # Initialize check list\n",
    "                check_nodes = [i]\n",
    "\n",
    "                # Relaxation step\n",
    "                s = 0\n",
    "                while len(check_nodes) > 0:\n",
    "                    i = check_nodes.pop(0)\n",
    "\n",
    "                    if self.v[i] > self.v_th:\n",
    "                        # number of neighbors of i\n",
    "                        n = np.sum(self.w[:,i].size)\n",
    "\n",
    "                        # neighbor indices\n",
    "                        j = self.w[:,i].nonzero()[0]\n",
    "\n",
    "                        # Spiking results in firing potential to neighbors\n",
    "                        # Inhibitory neurons subtract potential instead of adding\n",
    "                        self.v[j] += self.synapse_types[j,i].toarray().flatten() * \\\n",
    "                                     self.u * self.w[j,i].toarray().flatten() / n\n",
    "                        \n",
    "                        # Decrease synaptic connection strength\n",
    "                        self.w[j,i] -= self.u*self.w[j,i]\n",
    "                        \n",
    "                        # Add neighbors to check list\n",
    "                        check_nodes += [elem for elem in list(j) if elem not in check_nodes]\n",
    "\n",
    "                        # Subtract threshold potential after spike\n",
    "                        self.v[i] -= self.v_th\n",
    "\n",
    "                        # Increase current avalanche size\n",
    "                        s += 1\n",
    "\n",
    "                # Enforce minimum potential of zero\n",
    "                self.v[self.v < 0] = 0\n",
    "                \n",
    "                # Apply synaptic recovery after relaxation\n",
    "                self.w[self.link_idx] += J_rec\n",
    "                \n",
    "                avalanche_size[t] = s \n",
    "                \n",
    "                pbar.update()\n",
    "            \n",
    "            \n",
    "        self.avalanche_size = np.concatenate((self.avalanche_size,avalanche_size))\n",
    "        \n",
    "    def reset_avalanche_stats(self):\n",
    "        self.avalanche_size = np.array([],dtype=int)\n",
    "        \n",
    "    def avalanche_size_pdf(self):\n",
    "        pdf = np.bincount(self.avalanche_size) / self.avalanche_size.size\n",
    "        \n",
    "        nonzeros = (pdf != 0)\n",
    "        indices = np.arange(nonzeros.size)[nonzeros]\n",
    "        \n",
    "        return indices,pdf[nonzeros]"
   ]
  },
  {
   "cell_type": "code",
   "execution_count": 6,
   "metadata": {},
   "outputs": [],
   "source": [
    "def del_rand(adj_mat, neg_nod, per, mode):\n",
    "## Function that deletes percentage of nodes or links randomly\n",
    "## Attention: neg_nodes is not used in the IF model\n",
    "\n",
    "    am = adj_mat.copy()\n",
    "    nn = neg_nod.copy()\n",
    "    \n",
    "    if mode == 'node':\n",
    "        \n",
    "        nodes = math.ceil(adj_mat.shape[0]*per/100)\n",
    "        \n",
    "        for i in range(0,nodes-1):\n",
    "        \n",
    "            n = random.randint(0, adj_mat.shape[0]-1)\n",
    "            am[n,:] = 0\n",
    "            am[:, n] = 0\n",
    "        \n",
    "            nn = [nn != n]\n",
    "    \n",
    "    else:\n",
    "        \n",
    "        links = math.ceil(adj_mat.shape[0]*per/100)\n",
    "        \n",
    "        for i in range(0,links-1):\n",
    "            \n",
    "            l1 = random.randint(0, adj_mat.shape[0]-1)\n",
    "            l2 = random.randint(0, adj_mat.shape[0]-1)\n",
    "            am[l1,l2] = 0\n",
    "        \n",
    "    \n",
    "    return am, nn"
   ]
  },
  {
   "cell_type": "markdown",
   "metadata": {},
   "source": [
    "## Aging"
   ]
  },
  {
   "cell_type": "code",
   "execution_count": 16,
   "metadata": {},
   "outputs": [
    {
     "name": "stderr",
     "output_type": "stream",
     "text": [
      "100%|██████████| 10000/10000 [04:56<00:00, 33.73it/s]\n",
      "100%|██████████| 10000/10000 [04:23<00:00, 38.00it/s]\n"
     ]
    }
   ],
   "source": [
    "network = create_if_network(50,net_type=\"aging\")\n",
    "\n",
    "model = LHG_integrate_and_fire_model(network,a=0.95)\n",
    "\n",
    "model.simulate(100000)\n",
    "\n",
    "model.reset_avalanche_stats()\n",
    "\n",
    "model.simulate(100000)"
   ]
  },
  {
   "cell_type": "code",
   "execution_count": 17,
   "metadata": {},
   "outputs": [
    {
     "data": {
      "image/png": "[encoded data removed]",
      "text/plain": [
       "<matplotlib.figure.Figure at 0x26d98110390>"
      ]
     },
     "metadata": {},
     "output_type": "display_data"
    }
   ],
   "source": [
    "plt.figure(figsize=(10,5))\n",
    "plt.title(\"Average size pdf\")\n",
    "plt.ylabel(\"P(s)\")\n",
    "plt.xlabel(\"s\")\n",
    "\n",
    "indices, pdf = model.avalanche_size_pdf()\n",
    "\n",
    "plt.plot(indices, pdf)\n",
    "plt.xscale(\"log\")\n",
    "plt.yscale(\"log\")\n",
    "plt.grid(True)\n",
    "plt.show()"
   ]
  },
  {
   "cell_type": "code",
   "execution_count": 11,
   "metadata": {},
   "outputs": [
    {
     "name": "stderr",
     "output_type": "stream",
     "text": [
      "C:\\Users\\John\\Anaconda3\\lib\\site-packages\\scipy\\sparse\\compressed.py:774: SparseEfficiencyWarning: Changing the sparsity structure of a csr_matrix is expensive. lil_matrix is more efficient.\n",
      "  SparseEfficiencyWarning)\n"
     ]
    }
   ],
   "source": [
    "#Delete 5 percentages of nodes\n",
    "am5, _ = del_rand(nx.adjacency_matrix(model.network), _, 5, 'node')\n",
    "am10, _ = del_rand(nx.adjacency_matrix(model.network), _, 10, 'node')\n",
    "am20, _ = del_rand(nx.adjacency_matrix(model.network), _, 20, 'node')\n",
    "am40, _ = del_rand(nx.adjacency_matrix(model.network), _, 40, 'node')\n",
    "am60, _ = del_rand(nx.adjacency_matrix(model.network), _, 60, 'node')"
   ]
  },
  {
   "cell_type": "code",
   "execution_count": 19,
   "metadata": {},
   "outputs": [
    {
     "name": "stderr",
     "output_type": "stream",
     "text": [
      "100%|██████████| 10000/10000 [04:52<00:00, 34.19it/s]\n",
      "100%|██████████| 10000/10000 [04:56<00:00, 33.77it/s]\n",
      "100%|██████████| 10000/10000 [04:54<00:00, 26.01it/s]\n",
      "100%|██████████| 10000/10000 [04:55<00:00, 33.81it/s]\n"
     ]
    }
   ],
   "source": [
    "#Replace adj matrix with the one that has 80% of the initial nodes\n",
    "network.adjacency_matrix = am20\n",
    "\n",
    "#Rerun the model as before\n",
    "model20 = LHG_integrate_and_fire_model(network,a=0.95)\n",
    "\n",
    "model20.simulate(100000)\n",
    "\n",
    "model20.reset_avalanche_stats()\n",
    "\n",
    "model20.simulate(100000)\n",
    "\n",
    "#Replace adj matrix with the one that has 60% of the initial nodes\n",
    "network.adjacency_matrix = am40\n",
    "\n",
    "model40 = LHG_integrate_and_fire_model(network,a=0.95)\n",
    "\n",
    "model40.simulate(100000)\n",
    "\n",
    "model40.reset_avalanche_stats()\n",
    "\n",
    "model40.simulate(100000)"
   ]
  },
  {
   "cell_type": "code",
   "execution_count": 21,
   "metadata": {},
   "outputs": [
    {
     "data": {
      "image/png": "[encoded data removed]",
      "text/plain": [
       "<matplotlib.figure.Figure at 0x26d96f9d470>"
      ]
     },
     "metadata": {},
     "output_type": "display_data"
    }
   ],
   "source": [
    "plt.figure(figsize=(10,5))\n",
    "plt.title(\"Average size pdf\")\n",
    "plt.ylabel(\"P(s)\")\n",
    "plt.xlabel(\"s\")\n",
    "\n",
    "indices20, pdf20 = model20.avalanche_size_pdf()\n",
    "indices40, pdf40 = model40.avalanche_size_pdf()\n",
    "\n",
    "plt.plot(indices, pdf, indices20, pdf20, indices40, pdf40)\n",
    "plt.xscale(\"log\")\n",
    "plt.yscale(\"log\")\n",
    "plt.grid(True)\n",
    "plt.legend(['normal', '80%', '60%'])\n",
    "plt.show()"
   ]
  },
  {
   "cell_type": "markdown",
   "metadata": {},
   "source": [
    "## Barabasi"
   ]
  },
  {
   "cell_type": "code",
   "execution_count": 22,
   "metadata": {},
   "outputs": [
    {
     "name": "stderr",
     "output_type": "stream",
     "text": [
      " 15%|█▍        | 14679/100000 [06:51<39:51, 35.68it/s]  \n"
     ]
    },
    {
     "ename": "KeyboardInterrupt",
     "evalue": "",
     "output_type": "error",
     "traceback": [
      "\u001b[1;31m---------------------------------------------------------------------------\u001b[0m",
      "\u001b[1;31mKeyboardInterrupt\u001b[0m                         Traceback (most recent call last)",
      "\u001b[1;32m<ipython-input-22-3982a9752100>\u001b[0m in \u001b[0;36m<module>\u001b[1;34m()\u001b[0m\n\u001b[0;32m      3\u001b[0m \u001b[0mmodel\u001b[0m \u001b[1;33m=\u001b[0m \u001b[0mLHG_integrate_and_fire_model\u001b[0m\u001b[1;33m(\u001b[0m\u001b[0mnetwork\u001b[0m\u001b[1;33m,\u001b[0m\u001b[0ma\u001b[0m\u001b[1;33m=\u001b[0m\u001b[1;36m0.95\u001b[0m\u001b[1;33m)\u001b[0m\u001b[1;33m\u001b[0m\u001b[0m\n\u001b[0;32m      4\u001b[0m \u001b[1;33m\u001b[0m\u001b[0m\n\u001b[1;32m----> 5\u001b[1;33m \u001b[0mmodel\u001b[0m\u001b[1;33m.\u001b[0m\u001b[0msimulate\u001b[0m\u001b[1;33m(\u001b[0m\u001b[1;36m100000\u001b[0m\u001b[1;33m)\u001b[0m\u001b[1;33m\u001b[0m\u001b[0m\n\u001b[0m\u001b[0;32m      6\u001b[0m \u001b[1;33m\u001b[0m\u001b[0m\n\u001b[0;32m      7\u001b[0m \u001b[0mmodel\u001b[0m\u001b[1;33m.\u001b[0m\u001b[0mreset_avalanche_stats\u001b[0m\u001b[1;33m(\u001b[0m\u001b[1;33m)\u001b[0m\u001b[1;33m\u001b[0m\u001b[0m\n",
      "\u001b[1;32m<ipython-input-18-a21de0564ceb>\u001b[0m in \u001b[0;36msimulate\u001b[1;34m(self, steps)\u001b[0m\n\u001b[0;32m    272\u001b[0m \u001b[1;33m\u001b[0m\u001b[0m\n\u001b[0;32m    273\u001b[0m                 \u001b[1;31m# Synaptic recovery term\u001b[0m\u001b[1;33m\u001b[0m\u001b[1;33m\u001b[0m\u001b[0m\n\u001b[1;32m--> 274\u001b[1;33m                 \u001b[0mJ_rec\u001b[0m \u001b[1;33m=\u001b[0m \u001b[1;33m(\u001b[0m\u001b[0mself\u001b[0m\u001b[1;33m.\u001b[0m\u001b[0ma\u001b[0m \u001b[1;33m/\u001b[0m \u001b[0mself\u001b[0m\u001b[1;33m.\u001b[0m\u001b[0mu\u001b[0m \u001b[1;33m-\u001b[0m \u001b[0mself\u001b[0m\u001b[1;33m.\u001b[0m\u001b[0mw\u001b[0m\u001b[1;33m[\u001b[0m\u001b[0mself\u001b[0m\u001b[1;33m.\u001b[0m\u001b[0mlink_idx\u001b[0m\u001b[1;33m]\u001b[0m\u001b[1;33m)\u001b[0m \u001b[1;33m/\u001b[0m \u001b[0mself\u001b[0m\u001b[1;33m.\u001b[0m\u001b[0mtj\u001b[0m\u001b[1;33m\u001b[0m\u001b[0m\n\u001b[0m\u001b[0;32m    275\u001b[0m \u001b[1;33m\u001b[0m\u001b[0m\n\u001b[0;32m    276\u001b[0m                 \u001b[1;31m# Initialize check list\u001b[0m\u001b[1;33m\u001b[0m\u001b[1;33m\u001b[0m\u001b[0m\n",
      "\u001b[1;32mC:\\Users\\John\\Anaconda3\\lib\\site-packages\\scipy\\sparse\\csr.py\u001b[0m in \u001b[0;36m__getitem__\u001b[1;34m(self, key)\u001b[0m\n\u001b[0;32m    280\u001b[0m             \u001b[1;32mreturn\u001b[0m \u001b[0mcsr_matrix\u001b[0m\u001b[1;33m(\u001b[0m\u001b[1;33m(\u001b[0m\u001b[0mdata\u001b[0m\u001b[1;33m,\u001b[0m\u001b[0mindices\u001b[0m\u001b[1;33m,\u001b[0m\u001b[0mindptr\u001b[0m\u001b[1;33m)\u001b[0m\u001b[1;33m,\u001b[0m \u001b[0mshape\u001b[0m\u001b[1;33m=\u001b[0m\u001b[0mshape\u001b[0m\u001b[1;33m)\u001b[0m\u001b[1;33m\u001b[0m\u001b[0m\n\u001b[0;32m    281\u001b[0m \u001b[1;33m\u001b[0m\u001b[0m\n\u001b[1;32m--> 282\u001b[1;33m         \u001b[0mrow\u001b[0m\u001b[1;33m,\u001b[0m \u001b[0mcol\u001b[0m \u001b[1;33m=\u001b[0m \u001b[0mself\u001b[0m\u001b[1;33m.\u001b[0m\u001b[0m_unpack_index\u001b[0m\u001b[1;33m(\u001b[0m\u001b[0mkey\u001b[0m\u001b[1;33m)\u001b[0m\u001b[1;33m\u001b[0m\u001b[0m\n\u001b[0m\u001b[0;32m    283\u001b[0m \u001b[1;33m\u001b[0m\u001b[0m\n\u001b[0;32m    284\u001b[0m         \u001b[1;31m# First attempt to use original row optimized methods\u001b[0m\u001b[1;33m\u001b[0m\u001b[1;33m\u001b[0m\u001b[0m\n",
      "\u001b[1;32mC:\\Users\\John\\Anaconda3\\lib\\site-packages\\scipy\\sparse\\sputils.py\u001b[0m in \u001b[0;36m_unpack_index\u001b[1;34m(self, index)\u001b[0m\n\u001b[0;32m    271\u001b[0m         if (isinstance(index, (spmatrix, np.ndarray)) and\n\u001b[0;32m    272\u001b[0m            (index.ndim == 2) and index.dtype.kind == 'b'):\n\u001b[1;32m--> 273\u001b[1;33m                 \u001b[1;32mreturn\u001b[0m \u001b[0mindex\u001b[0m\u001b[1;33m.\u001b[0m\u001b[0mnonzero\u001b[0m\u001b[1;33m(\u001b[0m\u001b[1;33m)\u001b[0m\u001b[1;33m\u001b[0m\u001b[0m\n\u001b[0m\u001b[0;32m    274\u001b[0m \u001b[1;33m\u001b[0m\u001b[0m\n\u001b[0;32m    275\u001b[0m         \u001b[1;31m# Parse any ellipses.\u001b[0m\u001b[1;33m\u001b[0m\u001b[1;33m\u001b[0m\u001b[0m\n",
      "\u001b[1;32mC:\\Users\\John\\Anaconda3\\lib\\site-packages\\scipy\\sparse\\base.py\u001b[0m in \u001b[0;36mnonzero\u001b[1;34m(self)\u001b[0m\n\u001b[0;32m    648\u001b[0m \u001b[1;33m\u001b[0m\u001b[0m\n\u001b[0;32m    649\u001b[0m         \u001b[1;31m# convert to COOrdinate format\u001b[0m\u001b[1;33m\u001b[0m\u001b[1;33m\u001b[0m\u001b[0m\n\u001b[1;32m--> 650\u001b[1;33m         \u001b[0mA\u001b[0m \u001b[1;33m=\u001b[0m \u001b[0mself\u001b[0m\u001b[1;33m.\u001b[0m\u001b[0mtocoo\u001b[0m\u001b[1;33m(\u001b[0m\u001b[1;33m)\u001b[0m\u001b[1;33m\u001b[0m\u001b[0m\n\u001b[0m\u001b[0;32m    651\u001b[0m         \u001b[0mnz_mask\u001b[0m \u001b[1;33m=\u001b[0m \u001b[0mA\u001b[0m\u001b[1;33m.\u001b[0m\u001b[0mdata\u001b[0m \u001b[1;33m!=\u001b[0m \u001b[1;36m0\u001b[0m\u001b[1;33m\u001b[0m\u001b[0m\n\u001b[0;32m    652\u001b[0m         \u001b[1;32mreturn\u001b[0m \u001b[1;33m(\u001b[0m\u001b[0mA\u001b[0m\u001b[1;33m.\u001b[0m\u001b[0mrow\u001b[0m\u001b[1;33m[\u001b[0m\u001b[0mnz_mask\u001b[0m\u001b[1;33m]\u001b[0m\u001b[1;33m,\u001b[0m \u001b[0mA\u001b[0m\u001b[1;33m.\u001b[0m\u001b[0mcol\u001b[0m\u001b[1;33m[\u001b[0m\u001b[0mnz_mask\u001b[0m\u001b[1;33m]\u001b[0m\u001b[1;33m)\u001b[0m\u001b[1;33m\u001b[0m\u001b[0m\n",
      "\u001b[1;32mC:\\Users\\John\\Anaconda3\\lib\\site-packages\\scipy\\sparse\\compressed.py\u001b[0m in \u001b[0;36mtocoo\u001b[1;34m(self, copy)\u001b[0m\n\u001b[0;32m    951\u001b[0m         \u001b[0mminor_indices\u001b[0m \u001b[1;33m=\u001b[0m \u001b[0mself\u001b[0m\u001b[1;33m.\u001b[0m\u001b[0mindices\u001b[0m\u001b[1;33m\u001b[0m\u001b[0m\n\u001b[0;32m    952\u001b[0m         \u001b[0mmajor_indices\u001b[0m \u001b[1;33m=\u001b[0m \u001b[0mnp\u001b[0m\u001b[1;33m.\u001b[0m\u001b[0mempty\u001b[0m\u001b[1;33m(\u001b[0m\u001b[0mlen\u001b[0m\u001b[1;33m(\u001b[0m\u001b[0mminor_indices\u001b[0m\u001b[1;33m)\u001b[0m\u001b[1;33m,\u001b[0m \u001b[0mdtype\u001b[0m\u001b[1;33m=\u001b[0m\u001b[0mself\u001b[0m\u001b[1;33m.\u001b[0m\u001b[0mindices\u001b[0m\u001b[1;33m.\u001b[0m\u001b[0mdtype\u001b[0m\u001b[1;33m)\u001b[0m\u001b[1;33m\u001b[0m\u001b[0m\n\u001b[1;32m--> 953\u001b[1;33m         \u001b[0m_sparsetools\u001b[0m\u001b[1;33m.\u001b[0m\u001b[0mexpandptr\u001b[0m\u001b[1;33m(\u001b[0m\u001b[0mmajor_dim\u001b[0m\u001b[1;33m,\u001b[0m \u001b[0mself\u001b[0m\u001b[1;33m.\u001b[0m\u001b[0mindptr\u001b[0m\u001b[1;33m,\u001b[0m \u001b[0mmajor_indices\u001b[0m\u001b[1;33m)\u001b[0m\u001b[1;33m\u001b[0m\u001b[0m\n\u001b[0m\u001b[0;32m    954\u001b[0m         \u001b[0mrow\u001b[0m\u001b[1;33m,\u001b[0m \u001b[0mcol\u001b[0m \u001b[1;33m=\u001b[0m \u001b[0mself\u001b[0m\u001b[1;33m.\u001b[0m\u001b[0m_swap\u001b[0m\u001b[1;33m(\u001b[0m\u001b[1;33m(\u001b[0m\u001b[0mmajor_indices\u001b[0m\u001b[1;33m,\u001b[0m \u001b[0mminor_indices\u001b[0m\u001b[1;33m)\u001b[0m\u001b[1;33m)\u001b[0m\u001b[1;33m\u001b[0m\u001b[0m\n\u001b[0;32m    955\u001b[0m \u001b[1;33m\u001b[0m\u001b[0m\n",
      "\u001b[1;31mKeyboardInterrupt\u001b[0m: "
     ]
    }
   ],
   "source": [
    "network = create_if_network(50,net_type=\"ba\")\n",
    "\n",
    "model = LHG_integrate_and_fire_model(network,a=0.95)\n",
    "\n",
    "model.simulate(100000)\n",
    "\n",
    "model.reset_avalanche_stats()\n",
    "\n",
    "model.simulate(100000)"
   ]
  },
  {
   "cell_type": "code",
   "execution_count": null,
   "metadata": {
    "collapsed": true
   },
   "outputs": [],
   "source": [
    "plt.figure(figsize=(10,5))\n",
    "plt.title(\"Average size pdf\")\n",
    "plt.ylabel(\"P(s)\")\n",
    "plt.xlabel(\"s\")\n",
    "\n",
    "indices, pdf = model.avalanche_size_pdf()\n",
    "\n",
    "plt.plot(indices, pdf)\n",
    "plt.xscale(\"log\")\n",
    "plt.yscale(\"log\")\n",
    "plt.grid(True)\n",
    "plt.show()"
   ]
  },
  {
   "cell_type": "code",
   "execution_count": null,
   "metadata": {
    "collapsed": true
   },
   "outputs": [],
   "source": [
    "#Delete 5 percentages of nodes\n",
    "am5, _ = del_rand(nx.adjacency_matrix(model.network), _, 5, 'node')\n",
    "am10, _ = del_rand(nx.adjacency_matrix(model.network), _, 10, 'node')\n",
    "am20, _ = del_rand(nx.adjacency_matrix(model.network), _, 20, 'node')\n",
    "am40, _ = del_rand(nx.adjacency_matrix(model.network), _, 40, 'node')\n",
    "am60, _ = del_rand(nx.adjacency_matrix(model.network), _, 60, 'node')"
   ]
  },
  {
   "cell_type": "code",
   "execution_count": null,
   "metadata": {
    "collapsed": true
   },
   "outputs": [],
   "source": [
    "#Replace adj matrix with the one that has 80% of the initial nodes\n",
    "network.adjacency_matrix = am20\n",
    "\n",
    "#Rerun the model as before\n",
    "model20 = LHG_integrate_and_fire_model(network,a=0.95)\n",
    "\n",
    "model20.simulate(100000)\n",
    "\n",
    "model20.reset_avalanche_stats()\n",
    "\n",
    "model20.simulate(100000)\n",
    "\n",
    "#Replace adj matrix with the one that has 60% of the initial nodes\n",
    "network.adjacency_matrix = am40\n",
    "\n",
    "model40 = LHG_integrate_and_fire_model(network,a=0.95)\n",
    "\n",
    "model40.simulate(100000)\n",
    "\n",
    "model40.reset_avalanche_stats()\n",
    "\n",
    "model40.simulate(100000)"
   ]
  },
  {
   "cell_type": "code",
   "execution_count": null,
   "metadata": {
    "collapsed": true
   },
   "outputs": [],
   "source": [
    "plt.figure(figsize=(10,5))\n",
    "plt.title(\"Average size pdf\")\n",
    "plt.ylabel(\"P(s)\")\n",
    "plt.xlabel(\"s\")\n",
    "\n",
    "indices20, pdf20 = model20.avalanche_size_pdf()\n",
    "indices40, pdf40 = model40.avalanche_size_pdf()\n",
    "\n",
    "plt.plot(indices, pdf, indices20, pdf20, indices40, pdf40)\n",
    "plt.xscale(\"log\")\n",
    "plt.yscale(\"log\")\n",
    "plt.grid(True)\n",
    "plt.legend(['normal', '80%', '60%'])\n",
    "plt.show()"
   ]
  },
  {
   "cell_type": "markdown",
   "metadata": {},
   "source": [
    "## Small World"
   ]
  },
  {
   "cell_type": "code",
   "execution_count": null,
   "metadata": {
    "collapsed": true
   },
   "outputs": [],
   "source": [
    "network = create_if_network(50,net_type=\"ws\")\n",
    "\n",
    "model = LHG_integrate_and_fire_model(network,a=0.95)\n",
    "\n",
    "model.simulate(100000)\n",
    "\n",
    "model.reset_avalanche_stats()\n",
    "\n",
    "model.simulate(100000)"
   ]
  },
  {
   "cell_type": "code",
   "execution_count": null,
   "metadata": {
    "collapsed": true
   },
   "outputs": [],
   "source": [
    "plt.figure(figsize=(10,5))\n",
    "plt.title(\"Average size pdf\")\n",
    "plt.ylabel(\"P(s)\")\n",
    "plt.xlabel(\"s\")\n",
    "\n",
    "indices, pdf = model.avalanche_size_pdf()\n",
    "\n",
    "plt.plot(indices, pdf)\n",
    "plt.xscale(\"log\")\n",
    "plt.yscale(\"log\")\n",
    "plt.grid(True)\n",
    "plt.show()"
   ]
  },
  {
   "cell_type": "code",
   "execution_count": null,
   "metadata": {
    "collapsed": true
   },
   "outputs": [],
   "source": [
    "#Delete 5 percentages of nodes\n",
    "am5, _ = del_rand(nx.adjacency_matrix(model.network), _, 5, 'node')\n",
    "am10, _ = del_rand(nx.adjacency_matrix(model.network), _, 10, 'node')\n",
    "am20, _ = del_rand(nx.adjacency_matrix(model.network), _, 20, 'node')\n",
    "am40, _ = del_rand(nx.adjacency_matrix(model.network), _, 40, 'node')\n",
    "am60, _ = del_rand(nx.adjacency_matrix(model.network), _, 60, 'node')"
   ]
  },
  {
   "cell_type": "code",
   "execution_count": null,
   "metadata": {
    "collapsed": true
   },
   "outputs": [],
   "source": [
    "#Replace adj matrix with the one that has 80% of the initial nodes\n",
    "network.adjacency_matrix = am20\n",
    "\n",
    "#Rerun the model as before\n",
    "model20 = LHG_integrate_and_fire_model(network,a=0.95)\n",
    "\n",
    "model20.simulate(100000)\n",
    "\n",
    "model20.reset_avalanche_stats()\n",
    "\n",
    "model20.simulate(100000)\n",
    "\n",
    "#Replace adj matrix with the one that has 60% of the initial nodes\n",
    "network.adjacency_matrix = am40\n",
    "\n",
    "model40 = LHG_integrate_and_fire_model(network,a=0.95)\n",
    "\n",
    "model40.simulate(100000)\n",
    "\n",
    "model40.reset_avalanche_stats()\n",
    "\n",
    "model40.simulate(100000)"
   ]
  },
  {
   "cell_type": "code",
   "execution_count": null,
   "metadata": {
    "collapsed": true
   },
   "outputs": [],
   "source": [
    "plt.figure(figsize=(10,5))\n",
    "plt.title(\"Average size pdf\")\n",
    "plt.ylabel(\"P(s)\")\n",
    "plt.xlabel(\"s\")\n",
    "\n",
    "indices20, pdf20 = model20.avalanche_size_pdf()\n",
    "indices40, pdf40 = model40.avalanche_size_pdf()\n",
    "\n",
    "plt.plot(indices, pdf, indices20, pdf20, indices40, pdf40)\n",
    "plt.xscale(\"log\")\n",
    "plt.yscale(\"log\")\n",
    "plt.grid(True)\n",
    "plt.legend(['normal', '80%', '60%'])\n",
    "plt.show()"
   ]
  },
  {
   "cell_type": "markdown",
   "metadata": {},
   "source": [
    "## Random"
   ]
  },
  {
   "cell_type": "code",
   "execution_count": null,
   "metadata": {
    "collapsed": true
   },
   "outputs": [],
   "source": [
    "network = create_if_network(50,net_type=\"random\")\n",
    "\n",
    "model = LHG_integrate_and_fire_model(network,a=0.95)\n",
    "\n",
    "model.simulate(100000)\n",
    "\n",
    "model.reset_avalanche_stats()\n",
    "\n",
    "model.simulate(100000)"
   ]
  },
  {
   "cell_type": "code",
   "execution_count": null,
   "metadata": {
    "collapsed": true
   },
   "outputs": [],
   "source": [
    "plt.figure(figsize=(10,5))\n",
    "plt.title(\"Average size pdf\")\n",
    "plt.ylabel(\"P(s)\")\n",
    "plt.xlabel(\"s\")\n",
    "\n",
    "indices, pdf = model.avalanche_size_pdf()\n",
    "\n",
    "plt.plot(indices, pdf)\n",
    "plt.xscale(\"log\")\n",
    "plt.yscale(\"log\")\n",
    "plt.grid(True)\n",
    "plt.show()"
   ]
  },
  {
   "cell_type": "code",
   "execution_count": null,
   "metadata": {
    "collapsed": true
   },
   "outputs": [],
   "source": [
    "#Delete 5 percentages of nodes\n",
    "am5, _ = del_rand(nx.adjacency_matrix(model.network), _, 5, 'node')\n",
    "am10, _ = del_rand(nx.adjacency_matrix(model.network), _, 10, 'node')\n",
    "am20, _ = del_rand(nx.adjacency_matrix(model.network), _, 20, 'node')\n",
    "am40, _ = del_rand(nx.adjacency_matrix(model.network), _, 40, 'node')\n",
    "am60, _ = del_rand(nx.adjacency_matrix(model.network), _, 60, 'node')"
   ]
  },
  {
   "cell_type": "code",
   "execution_count": null,
   "metadata": {
    "collapsed": true
   },
   "outputs": [],
   "source": [
    "#Replace adj matrix with the one that has 80% of the initial nodes\n",
    "network.adjacency_matrix = am20\n",
    "\n",
    "#Rerun the model as before\n",
    "model20 = LHG_integrate_and_fire_model(network,a=0.95)\n",
    "\n",
    "model20.simulate(100000)\n",
    "\n",
    "model20.reset_avalanche_stats()\n",
    "\n",
    "model20.simulate(100000)\n",
    "\n",
    "#Replace adj matrix with the one that has 60% of the initial nodes\n",
    "network.adjacency_matrix = am40\n",
    "\n",
    "model40 = LHG_integrate_and_fire_model(network,a=0.95)\n",
    "\n",
    "model40.simulate(100000)\n",
    "\n",
    "model40.reset_avalanche_stats()\n",
    "\n",
    "model40.simulate(100000)"
   ]
  },
  {
   "cell_type": "code",
   "execution_count": null,
   "metadata": {
    "collapsed": true
   },
   "outputs": [],
   "source": [
    "plt.figure(figsize=(10,5))\n",
    "plt.title(\"Average size pdf\")\n",
    "plt.ylabel(\"P(s)\")\n",
    "plt.xlabel(\"s\")\n",
    "\n",
    "indices20, pdf20 = model20.avalanche_size_pdf()\n",
    "indices40, pdf40 = model40.avalanche_size_pdf()\n",
    "\n",
    "plt.plot(indices, pdf, indices20, pdf20, indices40, pdf40)\n",
    "plt.xscale(\"log\")\n",
    "plt.yscale(\"log\")\n",
    "plt.grid(True)\n",
    "plt.legend(['normal', '80%', '60%'])\n",
    "plt.show()"
   ]
  },
  {
   "cell_type": "markdown",
   "metadata": {},
   "source": [
    "## Fully Connected"
   ]
  },
  {
   "cell_type": "code",
   "execution_count": null,
   "metadata": {
    "collapsed": true
   },
   "outputs": [],
   "source": [
    "network = create_if_network(50,net_type=\"random\")\n",
    "\n",
    "model = LHG_integrate_and_fire_model(network,a=0.95)\n",
    "\n",
    "model.simulate(100000)\n",
    "\n",
    "model.reset_avalanche_stats()\n",
    "\n",
    "model.simulate(100000)"
   ]
  },
  {
   "cell_type": "code",
   "execution_count": null,
   "metadata": {
    "collapsed": true
   },
   "outputs": [],
   "source": [
    "plt.figure(figsize=(10,5))\n",
    "plt.title(\"Average size pdf\")\n",
    "plt.ylabel(\"P(s)\")\n",
    "plt.xlabel(\"s\")\n",
    "\n",
    "indices, pdf = model.avalanche_size_pdf()\n",
    "\n",
    "plt.plot(indices, pdf)\n",
    "plt.xscale(\"log\")\n",
    "plt.yscale(\"log\")\n",
    "plt.grid(True)\n",
    "plt.show()"
   ]
  },
  {
   "cell_type": "code",
   "execution_count": null,
   "metadata": {
    "collapsed": true
   },
   "outputs": [],
   "source": [
    "#Delete 5 percentages of nodes\n",
    "am5, _ = del_rand(nx.adjacency_matrix(model.network), _, 5, 'node')\n",
    "am10, _ = del_rand(nx.adjacency_matrix(model.network), _, 10, 'node')\n",
    "am20, _ = del_rand(nx.adjacency_matrix(model.network), _, 20, 'node')\n",
    "am40, _ = del_rand(nx.adjacency_matrix(model.network), _, 40, 'node')\n",
    "am60, _ = del_rand(nx.adjacency_matrix(model.network), _, 60, 'node')"
   ]
  },
  {
   "cell_type": "code",
   "execution_count": null,
   "metadata": {
    "collapsed": true
   },
   "outputs": [],
   "source": [
    "#Replace adj matrix with the one that has 80% of the initial nodes\n",
    "network.adjacency_matrix = am20\n",
    "\n",
    "#Rerun the model as before\n",
    "model20 = LHG_integrate_and_fire_model(network,a=0.95)\n",
    "\n",
    "model20.simulate(100000)\n",
    "\n",
    "model20.reset_avalanche_stats()\n",
    "\n",
    "model20.simulate(100000)\n",
    "\n",
    "#Replace adj matrix with the one that has 60% of the initial nodes\n",
    "network.adjacency_matrix = am40\n",
    "\n",
    "model40 = LHG_integrate_and_fire_model(network,a=0.95)\n",
    "\n",
    "model40.simulate(100000)\n",
    "\n",
    "model40.reset_avalanche_stats()\n",
    "\n",
    "model40.simulate(100000)"
   ]
  },
  {
   "cell_type": "code",
   "execution_count": null,
   "metadata": {
    "collapsed": true
   },
   "outputs": [],
   "source": [
    "plt.figure(figsize=(10,5))\n",
    "plt.title(\"Average size pdf\")\n",
    "plt.ylabel(\"P(s)\")\n",
    "plt.xlabel(\"s\")\n",
    "\n",
    "indices20, pdf20 = model20.avalanche_size_pdf()\n",
    "indices40, pdf40 = model40.avalanche_size_pdf()\n",
    "\n",
    "plt.plot(indices, pdf, indices20, pdf20, indices40, pdf40)\n",
    "plt.xscale(\"log\")\n",
    "plt.yscale(\"log\")\n",
    "plt.grid(True)\n",
    "plt.legend(['normal', '80%', '60%'])\n",
    "plt.show()"
   ]
  },
  {
   "cell_type": "markdown",
   "metadata": {},
   "source": [
    "# Simple IF"
   ]
  },
  {
   "cell_type": "markdown",
   "metadata": {},
   "source": [
    "## Barabasi"
   ]
  },
  {
   "cell_type": "code",
   "execution_count": 25,
   "metadata": {},
   "outputs": [
    {
     "name": "stderr",
     "output_type": "stream",
     "text": [
      "100%|██████████| 100000/100000 [06:25<00:00, 259.52it/s]\n",
      "100%|██████████| 100000/100000 [06:29<00:00, 256.98it/s]\n"
     ]
    }
   ],
   "source": [
    "network = create_if_network(50,net_type=\"ba\")\n",
    "\n",
    "model = simple_integrate_and_fire_model(network)\n",
    "\n",
    "model.simulate(100000)\n",
    "\n",
    "model.reset_avalanche_stats()\n",
    "\n",
    "model.simulate(100000)"
   ]
  },
  {
   "cell_type": "code",
   "execution_count": 26,
   "metadata": {},
   "outputs": [
    {
     "data": {
      "image/png": "[encoded data removed]",
      "text/plain": [
       "<matplotlib.figure.Figure at 0x26d9816cc18>"
      ]
     },
     "metadata": {},
     "output_type": "display_data"
    }
   ],
   "source": [
    "plt.figure(figsize=(10,5))\n",
    "plt.title(\"Average size pdf\")\n",
    "plt.ylabel(\"P(s)\")\n",
    "plt.xlabel(\"s\")\n",
    "\n",
    "indices, pdf = model.avalanche_size_pdf()\n",
    "\n",
    "plt.plot(indices, pdf)\n",
    "plt.xscale(\"log\")\n",
    "plt.yscale(\"log\")\n",
    "plt.grid(True)\n",
    "plt.show()"
   ]
  },
  {
   "cell_type": "code",
   "execution_count": 27,
   "metadata": {},
   "outputs": [
    {
     "name": "stderr",
     "output_type": "stream",
     "text": [
      "C:\\Users\\John\\Anaconda3\\lib\\site-packages\\scipy\\sparse\\compressed.py:774: SparseEfficiencyWarning: Changing the sparsity structure of a csr_matrix is expensive. lil_matrix is more efficient.\n",
      "  SparseEfficiencyWarning)\n"
     ]
    }
   ],
   "source": [
    "#Delete 5 percentages of nodes\n",
    "am5, _ = del_rand(nx.adjacency_matrix(model.network), _, 5, 'node')\n",
    "am10, _ = del_rand(nx.adjacency_matrix(model.network), _, 10, 'node')\n",
    "am20, _ = del_rand(nx.adjacency_matrix(model.network), _, 20, 'node')\n",
    "am40, _ = del_rand(nx.adjacency_matrix(model.network), _, 40, 'node')\n",
    "am60, _ = del_rand(nx.adjacency_matrix(model.network), _, 60, 'node')"
   ]
  },
  {
   "cell_type": "code",
   "execution_count": 28,
   "metadata": {},
   "outputs": [
    {
     "name": "stderr",
     "output_type": "stream",
     "text": [
      "100%|██████████| 100000/100000 [07:06<00:00, 234.32it/s]\n",
      "100%|██████████| 100000/100000 [07:05<00:00, 234.87it/s]\n",
      "100%|██████████| 100000/100000 [07:08<00:00, 233.11it/s]\n",
      "100%|██████████| 100000/100000 [06:46<00:00, 246.20it/s]\n"
     ]
    }
   ],
   "source": [
    "#Replace adj matrix with the one that has 80% of the initial nodes\n",
    "network.adjacency_matrix = am20\n",
    "\n",
    "#Rerun the model as before\n",
    "model20 = simple_integrate_and_fire_model(network)\n",
    "\n",
    "model20.simulate(100000)\n",
    "\n",
    "model20.reset_avalanche_stats()\n",
    "\n",
    "model20.simulate(100000)\n",
    "\n",
    "#Replace adj matrix with the one that has 60% of the initial nodes\n",
    "network.adjacency_matrix = am40\n",
    "\n",
    "model40 = simple_integrate_and_fire_model(network)\n",
    "\n",
    "model40.simulate(100000)\n",
    "\n",
    "model40.reset_avalanche_stats()\n",
    "\n",
    "model40.simulate(100000)"
   ]
  },
  {
   "cell_type": "code",
   "execution_count": 29,
   "metadata": {},
   "outputs": [
    {
     "data": {
      "image/png": "[encoded data removed]",
      "text/plain": [
       "<matplotlib.figure.Figure at 0x26d9685c668>"
      ]
     },
     "metadata": {},
     "output_type": "display_data"
    }
   ],
   "source": [
    "plt.figure(figsize=(10,5))\n",
    "plt.title(\"Average size pdf\")\n",
    "plt.ylabel(\"P(s)\")\n",
    "plt.xlabel(\"s\")\n",
    "\n",
    "indices20, pdf20 = model20.avalanche_size_pdf()\n",
    "indices40, pdf40 = model40.avalanche_size_pdf()\n",
    "\n",
    "plt.plot(indices, pdf, indices20, pdf20, indices40, pdf40)\n",
    "plt.xscale(\"log\")\n",
    "plt.yscale(\"log\")\n",
    "plt.grid(True)\n",
    "plt.legend(['normal', '80%', '60%'])\n",
    "plt.show()"
   ]
  },
  {
   "cell_type": "markdown",
   "metadata": {},
   "source": [
    "## Aging"
   ]
  },
  {
   "cell_type": "code",
   "execution_count": 30,
   "metadata": {},
   "outputs": [
    {
     "name": "stderr",
     "output_type": "stream",
     "text": [
      "100%|██████████| 100000/100000 [07:02<00:00, 236.88it/s]\n",
      "100%|██████████| 100000/100000 [06:58<00:00, 238.90it/s]\n"
     ]
    }
   ],
   "source": [
    "network = create_if_network(50,net_type=\"aging\")\n",
    "\n",
    "model = simple_integrate_and_fire_model(network)\n",
    "\n",
    "model.simulate(100000)\n",
    "\n",
    "model.reset_avalanche_stats()\n",
    "\n",
    "model.simulate(100000)"
   ]
  },
  {
   "cell_type": "code",
   "execution_count": 31,
   "metadata": {},
   "outputs": [
    {
     "data": {
      "image/png": "[encoded data removed]",
      "text/plain": [
       "<matplotlib.figure.Figure at 0x26d981501d0>"
      ]
     },
     "metadata": {},
     "output_type": "display_data"
    }
   ],
   "source": [
    "plt.figure(figsize=(10,5))\n",
    "plt.title(\"Average size pdf\")\n",
    "plt.ylabel(\"P(s)\")\n",
    "plt.xlabel(\"s\")\n",
    "\n",
    "indices, pdf = model.avalanche_size_pdf()\n",
    "\n",
    "plt.plot(indices, pdf)\n",
    "plt.xscale(\"log\")\n",
    "plt.yscale(\"log\")\n",
    "plt.grid(True)\n",
    "plt.show()"
   ]
  },
  {
   "cell_type": "code",
   "execution_count": 32,
   "metadata": {},
   "outputs": [
    {
     "name": "stderr",
     "output_type": "stream",
     "text": [
      "C:\\Users\\John\\Anaconda3\\lib\\site-packages\\scipy\\sparse\\compressed.py:774: SparseEfficiencyWarning: Changing the sparsity structure of a csr_matrix is expensive. lil_matrix is more efficient.\n",
      "  SparseEfficiencyWarning)\n"
     ]
    }
   ],
   "source": [
    "#Delete 5 percentages of nodes\n",
    "am5, _ = del_rand(nx.adjacency_matrix(model.network), _, 5, 'node')\n",
    "am10, _ = del_rand(nx.adjacency_matrix(model.network), _, 10, 'node')\n",
    "am20, _ = del_rand(nx.adjacency_matrix(model.network), _, 20, 'node')\n",
    "am40, _ = del_rand(nx.adjacency_matrix(model.network), _, 40, 'node')\n",
    "am60, _ = del_rand(nx.adjacency_matrix(model.network), _, 60, 'node')"
   ]
  },
  {
   "cell_type": "code",
   "execution_count": 33,
   "metadata": {},
   "outputs": [
    {
     "name": "stderr",
     "output_type": "stream",
     "text": [
      "100%|██████████| 100000/100000 [06:46<00:00, 245.73it/s]\n",
      "100%|██████████| 100000/100000 [07:03<00:00, 235.98it/s]\n",
      "100%|██████████| 100000/100000 [06:41<00:00, 248.86it/s]\n",
      "100%|██████████| 100000/100000 [06:56<00:00, 240.20it/s]\n"
     ]
    }
   ],
   "source": [
    "#Replace adj matrix with the one that has 80% of the initial nodes\n",
    "network.adjacency_matrix = am20\n",
    "\n",
    "#Rerun the model as before\n",
    "model20 = simple_integrate_and_fire_model(network)\n",
    "\n",
    "model20.simulate(100000)\n",
    "\n",
    "model20.reset_avalanche_stats()\n",
    "\n",
    "model20.simulate(100000)\n",
    "\n",
    "#Replace adj matrix with the one that has 60% of the initial nodes\n",
    "network.adjacency_matrix = am40\n",
    "\n",
    "model40 = simple_integrate_and_fire_model(network)\n",
    "\n",
    "model40.simulate(100000)\n",
    "\n",
    "model40.reset_avalanche_stats()\n",
    "\n",
    "model40.simulate(100000)"
   ]
  },
  {
   "cell_type": "code",
   "execution_count": 34,
   "metadata": {},
   "outputs": [
    {
     "data": {
      "image/png": "[encoded data removed]",
      "text/plain": [
       "<matplotlib.figure.Figure at 0x26d96e09080>"
      ]
     },
     "metadata": {},
     "output_type": "display_data"
    }
   ],
   "source": [
    "plt.figure(figsize=(10,5))\n",
    "plt.title(\"Average size pdf\")\n",
    "plt.ylabel(\"P(s)\")\n",
    "plt.xlabel(\"s\")\n",
    "\n",
    "indices20, pdf20 = model20.avalanche_size_pdf()\n",
    "indices40, pdf40 = model40.avalanche_size_pdf()\n",
    "\n",
    "plt.plot(indices, pdf, indices20, pdf20, indices40, pdf40)\n",
    "plt.xscale(\"log\")\n",
    "plt.yscale(\"log\")\n",
    "plt.grid(True)\n",
    "plt.legend(['normal', '80%', '60%'])\n",
    "plt.show()"
   ]
  },
  {
   "cell_type": "markdown",
   "metadata": {},
   "source": [
    "## Small World"
   ]
  },
  {
   "cell_type": "code",
   "execution_count": 35,
   "metadata": {},
   "outputs": [
    {
     "name": "stderr",
     "output_type": "stream",
     "text": [
      "100%|██████████| 100000/100000 [06:41<00:00, 249.35it/s]\n",
      "100%|██████████| 100000/100000 [07:19<00:00, 227.63it/s]\n"
     ]
    }
   ],
   "source": [
    "network = create_if_network(50,net_type=\"ws\")\n",
    "\n",
    "model = simple_integrate_and_fire_model(network)\n",
    "\n",
    "model.simulate(100000)\n",
    "\n",
    "model.reset_avalanche_stats()\n",
    "\n",
    "model.simulate(100000)"
   ]
  },
  {
   "cell_type": "code",
   "execution_count": 36,
   "metadata": {},
   "outputs": [
    {
     "data": {
      "image/png": "[encoded data removed]",
      "text/plain": [
       "<matplotlib.figure.Figure at 0x26d96ac9438>"
      ]
     },
     "metadata": {},
     "output_type": "display_data"
    }
   ],
   "source": [
    "plt.figure(figsize=(10,5))\n",
    "plt.title(\"Average size pdf\")\n",
    "plt.ylabel(\"P(s)\")\n",
    "plt.xlabel(\"s\")\n",
    "\n",
    "indices, pdf = model.avalanche_size_pdf()\n",
    "\n",
    "plt.plot(indices, pdf)\n",
    "plt.xscale(\"log\")\n",
    "plt.yscale(\"log\")\n",
    "plt.grid(True)\n",
    "plt.show()"
   ]
  },
  {
   "cell_type": "code",
   "execution_count": null,
   "metadata": {},
   "outputs": [
    {
     "name": "stderr",
     "output_type": "stream",
     "text": [
      "C:\\Users\\John\\Anaconda3\\lib\\site-packages\\scipy\\sparse\\compressed.py:774: SparseEfficiencyWarning: Changing the sparsity structure of a csr_matrix is expensive. lil_matrix is more efficient.\n",
      "  SparseEfficiencyWarning)\n"
     ]
    }
   ],
   "source": [
    "#Delete 5 percentages of nodes\n",
    "am5, _ = del_rand(nx.adjacency_matrix(model.network), _, 5, 'node')\n",
    "am10, _ = del_rand(nx.adjacency_matrix(model.network), _, 10, 'node')\n",
    "am20, _ = del_rand(nx.adjacency_matrix(model.network), _, 20, 'node')\n",
    "am40, _ = del_rand(nx.adjacency_matrix(model.network), _, 40, 'node')\n",
    "am60, _ = del_rand(nx.adjacency_matrix(model.network), _, 60, 'node')"
   ]
  },
  {
   "cell_type": "code",
   "execution_count": null,
   "metadata": {},
   "outputs": [
    {
     "name": "stderr",
     "output_type": "stream",
     "text": [
      "100%|██████████| 100000/100000 [06:51<00:00, 243.22it/s]\n",
      "100%|██████████| 100000/100000 [06:43<00:00, 247.58it/s]\n",
      "100%|██████████| 100000/100000 [5:49:28<00:00,  4.77it/s]it]\n",
      "100%|██████████| 100000/100000 [06:51<00:00, 242.86it/s]\n"
     ]
    }
   ],
   "source": [
    "#Replace adj matrix with the one that has 80% of the initial nodes\n",
    "network.adjacency_matrix = am20\n",
    "\n",
    "#Rerun the model as before\n",
    "model20 = simple_integrate_and_fire_model(network)\n",
    "\n",
    "model20.simulate(100000)\n",
    "\n",
    "model20.reset_avalanche_stats()\n",
    "\n",
    "model20.simulate(100000)\n",
    "\n",
    "#Replace adj matrix with the one that has 60% of the initial nodes\n",
    "network.adjacency_matrix = am40\n",
    "\n",
    "model40 = simple_integrate_and_fire_model(network)\n",
    "\n",
    "model40.simulate(100000)\n",
    "\n",
    "model40.reset_avalanche_stats()\n",
    "\n",
    "model40.simulate(100000)"
   ]
  },
  {
   "cell_type": "code",
   "execution_count": null,
   "metadata": {},
   "outputs": [
    {
     "data": {
      "image/png": "[encoded data removed]",
      "text/plain": [
       "<matplotlib.figure.Figure at 0x26d9812a358>"
      ]
     },
     "metadata": {},
     "output_type": "display_data"
    }
   ],
   "source": [
    "plt.figure(figsize=(10,5))\n",
    "plt.title(\"Average size pdf\")\n",
    "plt.ylabel(\"P(s)\")\n",
    "plt.xlabel(\"s\")\n",
    "\n",
    "indices20, pdf20 = model20.avalanche_size_pdf()\n",
    "indices40, pdf40 = model40.avalanche_size_pdf()\n",
    "\n",
    "plt.plot(indices, pdf, indices20, pdf20, indices40, pdf40)\n",
    "plt.xscale(\"log\")\n",
    "plt.yscale(\"log\")\n",
    "plt.grid(True)\n",
    "plt.legend(['normal', '80%', '60%'])\n",
    "plt.show()"
   ]
  },
  {
   "cell_type": "markdown",
   "metadata": {},
   "source": [
    "## Random"
   ]
  },
  {
   "cell_type": "code",
   "execution_count": null,
   "metadata": {},
   "outputs": [
    {
     "name": "stderr",
     "output_type": "stream",
     "text": [
      "100%|██████████| 100000/100000 [06:49<00:00, 243.96it/s]\n",
      "100%|██████████| 100000/100000 [06:34<00:00, 253.23it/s]\n"
     ]
    }
   ],
   "source": [
    "network = create_if_network(50,net_type=\"random\")\n",
    "\n",
    "model = simple_integrate_and_fire_model(network)\n",
    "\n",
    "model.simulate(100000)\n",
    "\n",
    "model.reset_avalanche_stats()\n",
    "\n",
    "model.simulate(100000)"
   ]
  },
  {
   "cell_type": "code",
   "execution_count": null,
   "metadata": {},
   "outputs": [
    {
     "data": {
      "image/png": "[encoded data removed]",
      "text/plain": [
       "<matplotlib.figure.Figure at 0x26d96ac9550>"
      ]
     },
     "metadata": {},
     "output_type": "display_data"
    }
   ],
   "source": [
    "plt.figure(figsize=(10,5))\n",
    "plt.title(\"Average size pdf\")\n",
    "plt.ylabel(\"P(s)\")\n",
    "plt.xlabel(\"s\")\n",
    "\n",
    "indices, pdf = model.avalanche_size_pdf()\n",
    "\n",
    "plt.plot(indices, pdf)\n",
    "plt.xscale(\"log\")\n",
    "plt.yscale(\"log\")\n",
    "plt.grid(True)\n",
    "plt.show()"
   ]
  },
  {
   "cell_type": "code",
   "execution_count": null,
   "metadata": {},
   "outputs": [
    {
     "name": "stderr",
     "output_type": "stream",
     "text": [
      "C:\\Users\\John\\Anaconda3\\lib\\site-packages\\scipy\\sparse\\compressed.py:774: SparseEfficiencyWarning: Changing the sparsity structure of a csr_matrix is expensive. lil_matrix is more efficient.\n",
      "  SparseEfficiencyWarning)\n"
     ]
    }
   ],
   "source": [
    "#Delete 5 percentages of nodes\n",
    "am5, _ = del_rand(nx.adjacency_matrix(model.network), _, 5, 'node')\n",
    "am10, _ = del_rand(nx.adjacency_matrix(model.network), _, 10, 'node')\n",
    "am20, _ = del_rand(nx.adjacency_matrix(model.network), _, 20, 'node')\n",
    "am40, _ = del_rand(nx.adjacency_matrix(model.network), _, 40, 'node')\n",
    "am60, _ = del_rand(nx.adjacency_matrix(model.network), _, 60, 'node')"
   ]
  },
  {
   "cell_type": "code",
   "execution_count": null,
   "metadata": {},
   "outputs": [
    {
     "name": "stderr",
     "output_type": "stream",
     "text": [
      "100%|██████████| 100000/100000 [06:07<00:00, 271.87it/s]\n",
      "100%|██████████| 100000/100000 [07:03<00:00, 236.09it/s]\n",
      "100%|██████████| 100000/100000 [06:52<00:00, 242.56it/s]\n",
      "100%|██████████| 100000/100000 [06:41<00:00, 249.31it/s]\n"
     ]
    }
   ],
   "source": [
    "#Replace adj matrix with the one that has 80% of the initial nodes\n",
    "network.adjacency_matrix = am20\n",
    "\n",
    "#Rerun the model as before\n",
    "model20 = simple_integrate_and_fire_model(network)\n",
    "\n",
    "model20.simulate(100000)\n",
    "\n",
    "model20.reset_avalanche_stats()\n",
    "\n",
    "model20.simulate(100000)\n",
    "\n",
    "#Replace adj matrix with the one that has 60% of the initial nodes\n",
    "network.adjacency_matrix = am40\n",
    "\n",
    "model40 = simple_integrate_and_fire_model(network)\n",
    "\n",
    "model40.simulate(100000)\n",
    "\n",
    "model40.reset_avalanche_stats()\n",
    "\n",
    "model40.simulate(100000)"
   ]
  },
  {
   "cell_type": "code",
   "execution_count": null,
   "metadata": {},
   "outputs": [
    {
     "data": {
      "image/png": "[encoded data removed]",
      "text/plain": [
       "<matplotlib.figure.Figure at 0x26d9811f828>"
      ]
     },
     "metadata": {},
     "output_type": "display_data"
    }
   ],
   "source": [
    "plt.figure(figsize=(10,5))\n",
    "plt.title(\"Average size pdf\")\n",
    "plt.ylabel(\"P(s)\")\n",
    "plt.xlabel(\"s\")\n",
    "\n",
    "indices20, pdf20 = model20.avalanche_size_pdf()\n",
    "indices40, pdf40 = model40.avalanche_size_pdf()\n",
    "\n",
    "plt.plot(indices, pdf, indices20, pdf20, indices40, pdf40)\n",
    "plt.xscale(\"log\")\n",
    "plt.yscale(\"log\")\n",
    "plt.grid(True)\n",
    "plt.legend(['normal', '80%', '60%'])\n",
    "plt.show()"
   ]
  },
  {
   "cell_type": "markdown",
   "metadata": {},
   "source": [
    "## Fully connected"
   ]
  },
  {
   "cell_type": "code",
   "execution_count": null,
   "metadata": {},
   "outputs": [
    {
     "name": "stderr",
     "output_type": "stream",
     "text": [
      "100%|██████████| 100000/100000 [06:40<00:00, 249.65it/s]\n",
      "100%|██████████| 100000/100000 [07:18<00:00, 227.98it/s]\n"
     ]
    }
   ],
   "source": [
    "network = create_if_network(50,net_type=\"full\")\n",
    "\n",
    "model = simple_integrate_and_fire_model(network)\n",
    "\n",
    "model.simulate(100000)\n",
    "\n",
    "model.reset_avalanche_stats()\n",
    "\n",
    "model.simulate(100000)"
   ]
  },
  {
   "cell_type": "code",
   "execution_count": null,
   "metadata": {},
   "outputs": [
    {
     "data": {
      "image/png": "[encoded data removed]",
      "text/plain": [
       "<matplotlib.figure.Figure at 0x26d96e7c908>"
      ]
     },
     "metadata": {},
     "output_type": "display_data"
    }
   ],
   "source": [
    "plt.figure(figsize=(10,5))\n",
    "plt.title(\"Average size pdf\")\n",
    "plt.ylabel(\"P(s)\")\n",
    "plt.xlabel(\"s\")\n",
    "\n",
    "indices, pdf = model.avalanche_size_pdf()\n",
    "\n",
    "plt.plot(indices, pdf)\n",
    "plt.xscale(\"log\")\n",
    "plt.yscale(\"log\")\n",
    "plt.grid(True)\n",
    "plt.show()"
   ]
  },
  {
   "cell_type": "code",
   "execution_count": null,
   "metadata": {},
   "outputs": [
    {
     "name": "stderr",
     "output_type": "stream",
     "text": [
      "C:\\Users\\John\\Anaconda3\\lib\\site-packages\\scipy\\sparse\\compressed.py:774: SparseEfficiencyWarning: Changing the sparsity structure of a csr_matrix is expensive. lil_matrix is more efficient.\n",
      "  SparseEfficiencyWarning)\n"
     ]
    }
   ],
   "source": [
    "#Delete 5 percentages of nodes\n",
    "am5, _ = del_rand(nx.adjacency_matrix(model.network), _, 5, 'node')\n",
    "am10, _ = del_rand(nx.adjacency_matrix(model.network), _, 10, 'node')\n",
    "am20, _ = del_rand(nx.adjacency_matrix(model.network), _, 20, 'node')\n",
    "am40, _ = del_rand(nx.adjacency_matrix(model.network), _, 40, 'node')\n",
    "am60, _ = del_rand(nx.adjacency_matrix(model.network), _, 60, 'node')"
   ]
  },
  {
   "cell_type": "code",
   "execution_count": null,
   "metadata": {},
   "outputs": [
    {
     "name": "stderr",
     "output_type": "stream",
     "text": [
      "100%|██████████| 100000/100000 [07:01<00:00, 237.02it/s]\n",
      "100%|██████████| 100000/100000 [06:46<00:00, 245.75it/s]\n",
      "100%|██████████| 100000/100000 [07:03<00:00, 235.86it/s]\n",
      "100%|██████████| 100000/100000 [06:36<00:00, 252.50it/s]\n"
     ]
    }
   ],
   "source": [
    "#Replace adj matrix with the one that has 80% of the initial nodes\n",
    "network.adjacency_matrix = am20\n",
    "\n",
    "#Rerun the model as before\n",
    "model20 = simple_integrate_and_fire_model(network)\n",
    "\n",
    "model20.simulate(100000)\n",
    "\n",
    "model20.reset_avalanche_stats()\n",
    "\n",
    "model20.simulate(100000)\n",
    "\n",
    "#Replace adj matrix with the one that has 60% of the initial nodes\n",
    "network.adjacency_matrix = am40\n",
    "\n",
    "model40 = simple_integrate_and_fire_model(network)\n",
    "\n",
    "model40.simulate(100000)\n",
    "\n",
    "model40.reset_avalanche_stats()\n",
    "\n",
    "model40.simulate(100000)"
   ]
  },
  {
   "cell_type": "code",
   "execution_count": null,
   "metadata": {},
   "outputs": [
    {
     "data": {
      "image/png": "[encoded data removed]",
      "text/plain": [
       "<matplotlib.figure.Figure at 0x26d96aa22b0>"
      ]
     },
     "metadata": {},
     "output_type": "display_data"
    }
   ],
   "source": [
    "plt.figure(figsize=(10,5))\n",
    "plt.title(\"Average size pdf\")\n",
    "plt.ylabel(\"P(s)\")\n",
    "plt.xlabel(\"s\")\n",
    "\n",
    "indices20, pdf20 = model20.avalanche_size_pdf()\n",
    "indices40, pdf40 = model40.avalanche_size_pdf()\n",
    "\n",
    "plt.plot(indices, pdf, indices20, pdf20, indices40, pdf40)\n",
    "plt.xscale(\"log\")\n",
    "plt.yscale(\"log\")\n",
    "plt.grid(True)\n",
    "plt.legend(['normal', '80%', '60%'])\n",
    "plt.show()"
   ]
  }
 ],
 "metadata": {
  "kernelspec": {
   "display_name": "Python 3",
   "language": "python",
   "name": "python3"
  },
  "language_info": {
   "codemirror_mode": {
    "name": "ipython",
    "version": 3
   },
   "file_extension": ".py",
   "mimetype": "text/x-python",
   "name": "python",
   "nbconvert_exporter": "python",
   "pygments_lexer": "ipython3",
   "version": "3.6.1"
  }
 },
 "nbformat": 4,
 "nbformat_minor": 2
}
