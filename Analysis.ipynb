{
 "cells": [
  {
   "cell_type": "markdown",
   "metadata": {},
   "source": [
    "# Complex systems simulation\n",
    "\n",
    "Kevin: This is the closest algorithm I can formulate when analyzing the papers. Maybe it'll be useful. Please tell me or correct it if you think something is missing or wrong here. I find that it resembles the BTW algorithm somewhat, so we'll probably find some SOC by that resemblance alone. I added both the dynamics synapses and leak parts. I think they can be ignored quite easily if we don't want those elements though.\n",
    "\n",
    "## (Leaky) integrate and fire algorithm with LHG dynamics\n",
    "\n",
    "1. Initialize network with potentials $V_i$ for the node values and Synaptic strengths $J_{ij}$ for the link values with $J_{ij} \\neq J_{ji}$\n",
    "\n",
    "2. Initialize parameters:\n",
    "    - $V^{ext}$: External input into membrane potential\n",
    "    - $u$: Transmitter resource usage / saturation constant of synaptic strength\n",
    "    - $V^{th}$: Membrane potential threshold\n",
    "    - $\\alpha$: Maximum connection strength parameter (Dynamic synapses)\n",
    "    - $\\tau_{J}$: Synaptic strength relaxation time (Dynamic synapses)\n",
    "    - $\\tau_l$: Leak time constant (leak term)\n",
    "    - $C$: Compensatory synaptic current (leak term)\n",
    "\n",
    "3. Drive step:\n",
    "    - $V_j \\gets V_j - \\frac{V_j}{\\tau_l} + C$ for all neurons $j$\n",
    "    - Randomly select a neuron i\n",
    "    - $V_i \\gets V_i + V^{ext}$ (Forward Euler)\n",
    "\n",
    "4. Relaxation step:\n",
    "    - For all neighbors $j$ of $i$, if $V_i > V^{th}$:\n",
    "        - $V_j \\gets V_j + \\frac{u J_{ji}}{N_i}$\n",
    "    \n",
    "    - $V_i \\gets V_i - V^{th}$\n",
    "    - Repeat for all cases of $j$ where $V_j > V^{th}$\n",
    "    \n",
    "5. Update synaptic strength:\n",
    "    - $J_{ij} \\gets J_{ij} + \\frac{1}{\\tau_l}\\left( \\frac{\\alpha}{u} - J_{ij} \\right) - u J_{ij}$ for all spiked synapses\n",
    "    - $J_{ij} \\gets J_{ij} + \\frac{1}{\\tau_l}\\left( \\frac{\\alpha}{u} - J_{ij} \\right)$ for all unused synapses\n",
    "\n",
    "6. Go back to step 3 or terminate algorithm"
   ]
  },
  {
   "cell_type": "code",
   "execution_count": 1,
   "metadata": {},
   "outputs": [],
   "source": [
    "import numpy as np\n",
    "import networkx as nx\n",
    "import matplotlib.pyplot as plt\n",
    "\n",
    "import integrate_and_fire as int_fire"
   ]
  },
  {
   "cell_type": "markdown",
   "metadata": {},
   "source": [
    "## Test simple integrate and fire model"
   ]
  },
  {
   "cell_type": "code",
   "execution_count": 2,
   "metadata": {},
   "outputs": [
    {
     "name": "stderr",
     "output_type": "stream",
     "text": [
      "100%|██████████| 10000/10000 [00:03<00:00, 2584.67it/s]\n",
      "100%|██████████| 1000000/1000000 [06:25<00:00, 2593.57it/s]\n"
     ]
    }
   ],
   "source": [
    "network = int_fire.create_if_network(300,net_type=\"full\")\n",
    "\n",
    "model = int_fire.simple_integrate_and_fire_model(network,J=4)\n",
    "\n",
    "model.simulate(10000)\n",
    "\n",
    "model.reset_avalanche_stats()\n",
    "\n",
    "model.simulate(1000000)"
   ]
  },
  {
   "cell_type": "code",
   "execution_count": 3,
   "metadata": {
    "scrolled": false
   },
   "outputs": [
    {
     "data": {
      "image/png": "[encoded data removed]",
      "text/plain": [
       "<Figure size 720x360 with 1 Axes>"
      ]
     },
     "metadata": {},
     "output_type": "display_data"
    }
   ],
   "source": [
    "plt.figure(figsize=(10,5))\n",
    "plt.title(\"Avalanche size pdf\")\n",
    "plt.ylabel(r\"$P(s)$\")\n",
    "plt.xlabel(r\"s\")\n",
    "\n",
    "indices,pdf = model.avalanche_size_pdf()\n",
    "\n",
    "plt.plot(indices,pdf)\n",
    "plt.xscale(\"log\")\n",
    "plt.yscale(\"log\")\n",
    "plt.grid(True)\n",
    "plt.show()"
   ]
  }
 ],
 "metadata": {
  "kernelspec": {
   "display_name": "Python [default]",
   "language": "python",
   "name": "python3"
  },
  "language_info": {
   "codemirror_mode": {
    "name": "ipython",
    "version": 3
   },
   "file_extension": ".py",
   "mimetype": "text/x-python",
   "name": "python",
   "nbconvert_exporter": "python",
   "pygments_lexer": "ipython3",
   "version": "3.6.3"
  }
 },
 "nbformat": 4,
 "nbformat_minor": 2
}
