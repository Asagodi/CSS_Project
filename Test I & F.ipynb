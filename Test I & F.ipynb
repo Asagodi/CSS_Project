{
 "cells": [
  {
   "cell_type": "code",
   "execution_count": 1,
   "metadata": {
    "collapsed": true
   },
   "outputs": [],
   "source": [
    "import numpy as np\n",
    "import matplotlib.pyplot as plt\n",
    "import math\n",
    "from scipy.integrate import odeint"
   ]
  },
  {
   "cell_type": "code",
   "execution_count": 2,
   "metadata": {
    "collapsed": true
   },
   "outputs": [],
   "source": [
    "#The parameter values were based on \"Self - Criticality of a Simple Integrate-and-fire Neural Model\"\n",
    "\n",
    "v_ext = 0.025\n",
    "v_max = 1\n",
    "\n",
    "u = 0.2\n",
    "J = 1 #It is assummed to be constant for the simplest case. Let's assume a fully connected network of 4 nodes.\n",
    "\n",
    "time = np.linspace(0,9,100) #10 seconds\n",
    "\n",
    "t_dr = np.zeros(time.shape) #driven time on 5th second\n",
    "t_dr[math.ceil(len(t_dr)/2)] = math.ceil(len(t_dr)/2)\n",
    "\n",
    "t_sp = np.zeros(time.shape) #spiking time on 2nd, 4th, 6th, 8th seconds\n",
    "t_sp[math.ceil(len(t_dr)/5)] = math.ceil(len(t_dr)/5)\n",
    "t_sp[2 * math.ceil(len(t_dr)/5)] = 2 * math.ceil(len(t_dr)/5)\n",
    "t_sp[3 * math.ceil(len(t_dr)/5)] = 3 * math.ceil(len(t_dr)/5)\n",
    "t_sp[4 * math.ceil(len(t_dr)/5)] = 4 * math.ceil(len(t_dr)/5)"
   ]
  },
  {
   "cell_type": "code",
   "execution_count": 3,
   "metadata": {
    "collapsed": true
   },
   "outputs": [],
   "source": [
    "#Implement the delta function that exists in membrane potential (V_i) equation (1)\n",
    "def delta_func(x):\n",
    "    if x == 0:\n",
    "        ans = 1\n",
    "    else:\n",
    "        ans = 0\n",
    "        \n",
    "    return ans"
   ]
  },
  {
   "cell_type": "code",
   "execution_count": 6,
   "metadata": {},
   "outputs": [
    {
     "data": {
      "image/png": "[encoded data removed]",
      "text/plain": [
       "<matplotlib.figure.Figure at 0x7fabf4c156d8>"
      ]
     },
     "metadata": {},
     "output_type": "display_data"
    }
   ],
   "source": [
    "#Implementation of the synaptic strength equation (2) between two neurons \n",
    "def syn_str(j,t):\n",
    "    \n",
    "    relax_time = 1.414\n",
    "    contr_par = 1.50\n",
    "    \n",
    "    if (t >= 4.0 and t <= 5.0) or (t >= 7.0 and t <= 8.0):\n",
    "        djdt = 1 / relax_time * (contr_par / u - j) - u * j\n",
    "    else:\n",
    "        djdt = 1 / relax_time * (contr_par / u - j)\n",
    "    \n",
    "    return djdt\n",
    "\n",
    "#Set initial condition arbitrarily\n",
    "j0 = 0\n",
    "\n",
    "j = odeint(syn_str,j0,time)\n",
    "\n",
    "plt.plot(time,j)\n",
    "plt.ylabel('Synaptic Strength')\n",
    "plt.xlabel('Time')\n",
    "plt.show()"
   ]
  },
  {
   "cell_type": "code",
   "execution_count": 7,
   "metadata": {},
   "outputs": [
    {
     "data": {
      "image/png": "[encoded data removed]",
      "text/plain": [
       "<matplotlib.figure.Figure at 0x7fabf4bd4668>"
      ]
     },
     "metadata": {},
     "output_type": "display_data"
    }
   ],
   "source": [
    "relax_time = 1.414\n",
    "contr_par = 1.50\n",
    "\n",
    "#Implementation of the membrane potential equation (1) of a neuron\n",
    "def IandF(vj,t):\n",
    "    \n",
    "    v , j = vj\n",
    " \n",
    "    if t >= 1.0 and t <= 2.0:\n",
    "        dvdt = v_ext\n",
    "        djdt = 1 / relax_time * (contr_par / u - j)\n",
    "    elif (t >= 4.0 and t <= 5.0) or (t >= 7.0 and t <= 8.0):\n",
    "        dvdt = sum(u * j / 1 for k in range(1,2)) - v_max \n",
    "        djdt = 1 / relax_time * (contr_par / u - j) - u * j\n",
    "    else:\n",
    "        dvdt = v_ext\n",
    "        djdt = 1 / relax_time * (contr_par / u - j)\n",
    "        \n",
    "    return [dvdt, djdt]\n",
    "\n",
    "#Set initial conditions arbitrarily\n",
    "v0j0 = [0, 0]\n",
    "\n",
    "i_f = odeint(IandF,v0j0,time)\n",
    "\n",
    "plt.subplot(211)\n",
    "plt.plot(time,i_f[:,0])\n",
    "plt.ylabel('Membrane Potential')\n",
    "plt.xlabel('Time')\n",
    "\n",
    "plt.subplot(212)\n",
    "plt.plot(time,i_f[:,1])\n",
    "plt.ylabel('Synaptic Strength')\n",
    "plt.xlabel('Time')\n",
    "\n",
    "plt.show()"
   ]
  },
  {
   "cell_type": "code",
   "execution_count": null,
   "metadata": {
    "collapsed": true
   },
   "outputs": [],
   "source": []
  }
 ],
 "metadata": {
  "kernelspec": {
   "display_name": "Python 3",
   "language": "python",
   "name": "python3"
  },
  "language_info": {
   "codemirror_mode": {
    "name": "ipython",
    "version": 3
   },
   "file_extension": ".py",
   "mimetype": "text/x-python",
   "name": "python",
   "nbconvert_exporter": "python",
   "pygments_lexer": "ipython3",
   "version": "3.6.5"
  }
 },
 "nbformat": 4,
 "nbformat_minor": 2
}
