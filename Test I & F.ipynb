{
 "cells": [
  {
   "cell_type": "code",
   "execution_count": 61,
   "metadata": {
    "collapsed": true
   },
   "outputs": [],
   "source": [
    "import numpy as np\n",
    "import matplotlib.pyplot as plt\n",
    "import math\n",
    "from scipy.integrate import odeint"
   ]
  },
  {
   "cell_type": "code",
   "execution_count": 92,
   "metadata": {
    "collapsed": true
   },
   "outputs": [],
   "source": [
    "#The parameter values were based on \"Self - Criticality of a Simple Integrate-and-fire Neural Model\"\n",
    "\n",
    "v_ext = 0.025\n",
    "v_max = 1\n",
    "\n",
    "u = 0.2\n",
    "J = 1 #It is assummed to be constant for the simplest case. Let's assume a fully connected network of 4 nodes.\n",
    "\n",
    "time = np.linspace(0,10,100) #10 seconds\n",
    "\n",
    "t_dr = np.zeros(time.shape) #driven time on 5th second\n",
    "t_dr[math.ceil(len(t_dr)/2)] = math.ceil(len(t_dr)/2)\n",
    "\n",
    "t_sp = np.zeros(time.shape) #spiking time on 2nd, 4th, 6th, 8th seconds\n",
    "t_sp[math.ceil(len(t_dr)/5)] = math.ceil(len(t_dr)/5)\n",
    "t_sp[2 * math.ceil(len(t_dr)/5)] = 2 * math.ceil(len(t_dr)/5)\n",
    "t_sp[3 * math.ceil(len(t_dr)/5)] = 3 * math.ceil(len(t_dr)/5)\n",
    "t_sp[4 * math.ceil(len(t_dr)/5)] = 4 * math.ceil(len(t_dr)/5)"
   ]
  },
  {
   "cell_type": "code",
   "execution_count": 93,
   "metadata": {
    "collapsed": true
   },
   "outputs": [],
   "source": [
    "#Implement the delta function that exists in membrane potential (V_i) equation (1)\n",
    "def delta_func(x):\n",
    "    if x == 0:\n",
    "        ans = 1\n",
    "    else:\n",
    "        ans = 0\n",
    "        \n",
    "    return ans"
   ]
  },
  {
   "cell_type": "code",
   "execution_count": 98,
   "metadata": {},
   "outputs": [
    {
     "data": {
      "image/png": "[encoded data removed]",
      "text/plain": [
       "<matplotlib.figure.Figure at 0x262c3e0f748>"
      ]
     },
     "metadata": {},
     "output_type": "display_data"
    }
   ],
   "source": [
    "#Implementation of the membrane potential equation (2) of a neuron\n",
    "def mem_pot(v,t):\n",
    "    \n",
    "    for i in range(0,len(time)):\n",
    "        dvdt = v_ext * delta_func(time[i] - t_dr[i]) + sum(u * J / 3 for k in range(1,3)) * delta_func(time[i] - t_sp[i]) - v_max * delta_func(time[i] - t_sp[i])\n",
    "    \n",
    "    return dvdt\n",
    "\n",
    "#Set initial condition arbitrarily\n",
    "v0 = 1\n",
    "\n",
    "v = odeint(mem_pot,v0,time)\n",
    "    \n",
    "plt.plot(time,v)\n",
    "plt.ylabel('Membrane Potential')\n",
    "plt.xlabel('Time')\n",
    "plt.show()"
   ]
  },
  {
   "cell_type": "code",
   "execution_count": 97,
   "metadata": {},
   "outputs": [
    {
     "data": {
      "image/png": "[encoded data removed]",
      "text/plain": [
       "<matplotlib.figure.Figure at 0x262c3bf56d8>"
      ]
     },
     "metadata": {},
     "output_type": "display_data"
    }
   ],
   "source": [
    "#Implementation of the synaptic strength equation (2) between two neurons\n",
    "def syn_str(j,t):\n",
    "    \n",
    "    relax_time = 1.414\n",
    "    contr_par = 1.50\n",
    "    \n",
    "    for i in range(0,len(time)):\n",
    "        djdt = 1 / relax_time * (contr_par / u - j) - u * j * delta_func(time[i] - t_sp[i])\n",
    "    \n",
    "    return djdt\n",
    "\n",
    "#Set initial condition arbitrarily\n",
    "j0 = 1\n",
    "\n",
    "j = odeint(syn_str,j0,time)\n",
    "\n",
    "plt.plot(time,j)\n",
    "plt.ylabel('Synaptic Strength')\n",
    "plt.xlabel('Time')\n",
    "plt.show()"
   ]
  },
  {
   "cell_type": "code",
   "execution_count": null,
   "metadata": {
    "collapsed": true
   },
   "outputs": [],
   "source": []
  }
 ],
 "metadata": {
  "kernelspec": {
   "display_name": "Python 3",
   "language": "python",
   "name": "python3"
  },
  "language_info": {
   "codemirror_mode": {
    "name": "ipython",
    "version": 3
   },
   "file_extension": ".py",
   "mimetype": "text/x-python",
   "name": "python",
   "nbconvert_exporter": "python",
   "pygments_lexer": "ipython3",
   "version": "3.6.5"
  }
 },
 "nbformat": 4,
 "nbformat_minor": 2
}
