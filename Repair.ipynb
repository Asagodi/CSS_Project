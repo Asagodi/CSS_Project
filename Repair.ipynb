{
 "cells": [
  {
   "cell_type": "markdown",
   "metadata": {},
   "source": [
    "# Complex systems simulation\n",
    "\n",
    "Kevin: This is the closest algorithm I can formulate when analyzing the papers. Maybe it'll be useful. Please tell me or correct it if you think something is missing or wrong here. I find that it resembles the BTW algorithm somewhat, so we'll probably find some SOC by that resemblance alone. I added both the dynamics synapses and leak parts. I think they can be ignored quite easily if we don't want those elements though.\n",
    "\n",
    "## (Leaky) integrate and fire algorithm with LHG dynamics\n",
    "\n",
    "1. Initialize network with potentials $V_i$ for the node values and Synaptic strengths $J_{ij}$ for the link values with $J_{ij} \\neq J_{ji}$\n",
    "\n",
    "2. Initialize parameters:\n",
    "    - $V^{ext}$: External input into membrane potential\n",
    "    - $u$: Transmitter resource usage / saturation constant of synaptic strength\n",
    "    - $V^{th}$: Membrane potential threshold\n",
    "    - $\\alpha$: Maximum connection strength parameter (Dynamic synapses)\n",
    "    - $\\tau_{J}$: Synaptic strength relaxation time (Dynamic synapses)\n",
    "    - $\\tau_l$: Leak time constant (leak term)\n",
    "    - $C$: Compensatory synaptic current (leak term)\n",
    "\n",
    "3. Drive step:\n",
    "    - $V_j \\gets V_j - \\frac{V_j}{\\tau_l} + C$ for all neurons $j$\n",
    "    - Randomly select a neuron i\n",
    "    - $V_i \\gets V_i + V^{ext}$ (Forward Euler)\n",
    "\n",
    "4. Relaxation step:\n",
    "    - For all neighbors $j$ of $i$, if $V_i > V^{th}$:\n",
    "        - $V_j \\gets V_j + \\frac{u J_{ji}}{N_i}$\n",
    "    \n",
    "    - $V_i \\gets V_i - V^{th}$\n",
    "    - Repeat for all cases of $j$ where $V_j > V^{th}$\n",
    "    \n",
    "5. Update synaptic strength:\n",
    "    - $J_{ij} \\gets J_{ij} + \\frac{1}{\\tau_l}\\left( \\frac{\\alpha}{u} - J_{ij} \\right) - u J_{ij}$ for all spiked synapses\n",
    "    - $J_{ij} \\gets J_{ij} + \\frac{1}{\\tau_l}\\left( \\frac{\\alpha}{u} - J_{ij} \\right)$ for all unused synapses\n",
    "\n",
    "6. Go back to step 3 or terminate algorithm"
   ]
  },
  {
   "cell_type": "code",
   "execution_count": 1,
   "metadata": {
    "collapsed": true
   },
   "outputs": [],
   "source": [
    "import numpy as np\n",
    "import networkx as nx\n",
    "import matplotlib.pyplot as plt\n",
    "import random\n",
    "\n",
    "import integrate_and_fire as int_fire\n",
    "import powerlaw"
   ]
  },
  {
   "cell_type": "markdown",
   "metadata": {},
   "source": [
    "## Test simple integrate and fire model"
   ]
  },
  {
   "cell_type": "code",
   "execution_count": 2,
   "metadata": {},
   "outputs": [
    {
     "name": "stderr",
     "output_type": "stream",
     "text": [
      "100%|██████████| 10000/10000 [00:03<00:00, 2584.67it/s]\n",
      "100%|██████████| 1000000/1000000 [06:25<00:00, 2593.57it/s]\n"
     ]
    }
   ],
   "source": [
    "network = int_fire.create_if_network(300,net_type=\"full\")\n",
    "\n",
    "model = int_fire.simple_integrate_and_fire_model(network,J=4)\n",
    "\n",
    "model.simulate(10000)\n",
    "\n",
    "model.reset_avalanche_stats()\n",
    "\n",
    "model.simulate(1000000)"
   ]
  },
  {
   "cell_type": "markdown",
   "metadata": {},
   "source": [
    "# Repair"
   ]
  },
  {
   "cell_type": "code",
   "execution_count": 2,
   "metadata": {},
   "outputs": [
    {
     "name": "stderr",
     "output_type": "stream",
     "text": [
      "100%|██████████| 100000/100000 [02:24<00:00, 693.53it/s]\n"
     ]
    }
   ],
   "source": [
    "size = 50\n",
    "network = int_fire.create_if_network(size, net_type=\"full\")\n",
    "\n",
    "model = int_fire.LHG_integrate_and_fire_model(network,a=0.95,p_inh=0.)\n",
    "\n",
    "model.reset_avalanche_stats()\n",
    "\n",
    "model.simulate(100000)"
   ]
  },
  {
   "cell_type": "code",
   "execution_count": 16,
   "metadata": {},
   "outputs": [
    {
     "name": "stderr",
     "output_type": "stream",
     "text": [
      "Calculating best minimal value for power law fit\n",
      "/home/abel/Documents/anaconda2/envs/ml1labs/lib/python3.6/site-packages/powerlaw.py:697: RuntimeWarning: invalid value encountered in true_divide\n",
      "  (Theoretical_CDF * (1 - Theoretical_CDF))\n"
     ]
    },
    {
     "data": {
      "image/png": "[encoded data removed]",
      "text/plain": [
       "<matplotlib.figure.Figure at 0x7f690fb05358>"
      ]
     },
     "metadata": {},
     "output_type": "display_data"
    }
   ],
   "source": [
    "plt.figure(figsize=(10,5))\n",
    "plt.title(\"Avalanche size pdf\")\n",
    "plt.ylabel(r\"$P(s)$\")\n",
    "plt.xlabel(r\"size\")\n",
    "\n",
    "indices,pdf = model.avalanche_size_pdf()\n",
    "fitted_pl = powerlaw.Fit(pdf[1:])\n",
    "alpha = fitted_pl.alpha\n",
    "x = np.linspace(1, 10, 100)\n",
    "y = x**(-alpha) * pdf[1]\n",
    "\n",
    "plt.plot(indices,pdf)\n",
    "plt.plot(x,y)\n",
    "plt.xscale(\"log\")\n",
    "plt.yscale(\"log\")\n",
    "plt.grid(True)\n",
    "plt.show()"
   ]
  },
  {
   "cell_type": "code",
   "execution_count": 107,
   "metadata": {},
   "outputs": [],
   "source": [
    "A = network.w.toarray()\n",
    "def remove_links(matrix, n):\n",
    "    \"Removes n links\"\n",
    "    r = list(zip(np.where(A != 0)[0], np.where(matrix != 0)[1]))\n",
    "    k = random.sample(r, n)\n",
    "    s = np.array(k)\n",
    "    matrix[s[:,0], s[:,1]] = 0\n",
    "    return matrix\n",
    "A = remove_links(A, 100)"
   ]
  },
  {
   "cell_type": "code",
   "execution_count": 108,
   "metadata": {},
   "outputs": [],
   "source": [
    "network.w = A"
   ]
  },
  {
   "cell_type": "code",
   "execution_count": null,
   "metadata": {},
   "outputs": [
    {
     "name": "stderr",
     "output_type": "stream",
     "text": [
      " 33%|███▎      | 32620/100000 [03:09<07:34, 148.26it/s]"
     ]
    }
   ],
   "source": [
    "model = int_fire.LHG_integrate_and_fire_model(network,a=1.4,p_inh=0.)\n",
    "\n",
    "model.reset_avalanche_stats()\n",
    "\n",
    "model.simulate(100000)"
   ]
  },
  {
   "cell_type": "code",
   "execution_count": null,
   "metadata": {},
   "outputs": [],
   "source": [
    "plt.figure(figsize=(10,5))\n",
    "plt.title(\"Avalanche size pdf\")\n",
    "plt.ylabel(r\"$P(s)$\")\n",
    "plt.xlabel(r\"size\")\n",
    "\n",
    "indices,pdf = model.avalanche_size_pdf()\n",
    "fitted_pl = powerlaw.Fit(pdf[1:])\n",
    "alpha = fitted_pl.alpha\n",
    "x = np.linspace(1, 10, 100)\n",
    "y = x**(-alpha) * pdf[1]\n",
    "\n",
    "plt.plot(indices,pdf)\n",
    "plt.plot(x,y)\n",
    "plt.xscale(\"log\")\n",
    "plt.yscale(\"log\")\n",
    "plt.grid(True)\n",
    "plt.show()"
   ]
  },
  {
   "cell_type": "code",
   "execution_count": null,
   "metadata": {},
   "outputs": [],
   "source": [
    "degree_sequence=sorted(nx.degree(network).values(),reverse=True) # degree sequence\n",
    "dmax=max(degree_sequence)\n",
    "plt.loglog(degree_sequence,'b-',marker='o')\n",
    "plt.title(\"Degree rank plot\")\n",
    "plt.ylabel(\"degree\")\n",
    "plt.xlabel(\"rank\")\n",
    "\n",
    "# draw graph in inset\n",
    "plt.axes([0.45,0.45,0.45,0.45])\n",
    "Gcc=sorted(nx.connected_component_subgraphs(network), key = len, reverse=True)[0]\n",
    "pos=nx.spring_layout(Gcc)\n",
    "plt.axis('off')\n",
    "# nx.draw_networkx_nodes(Gcc,pos,node_size=20)\n",
    "# nx.draw_networkx_edges(Gcc,pos,alpha=0.4)\n",
    "\n",
    "plt.savefig(\"degree_histogram.png\")\n",
    "plt.show()"
   ]
  },
  {
   "cell_type": "code",
   "execution_count": null,
   "metadata": {},
   "outputs": [],
   "source": [
    "A = nx.to_numpy_matrix(network)\n",
    "np.sum(A)"
   ]
  },
  {
   "cell_type": "code",
   "execution_count": null,
   "metadata": {},
   "outputs": [],
   "source": [
    "A"
   ]
  },
  {
   "cell_type": "code",
   "execution_count": null,
   "metadata": {
    "collapsed": true
   },
   "outputs": [],
   "source": []
  }
 ],
 "metadata": {
  "kernelspec": {
   "display_name": "Python 3",
   "language": "python",
   "name": "python3"
  },
  "language_info": {
   "codemirror_mode": {
    "name": "ipython",
    "version": 3
   },
   "file_extension": ".py",
   "mimetype": "text/x-python",
   "name": "python",
   "nbconvert_exporter": "python",
   "pygments_lexer": "ipython3",
   "version": "3.6.5"
  }
 },
 "nbformat": 4,
 "nbformat_minor": 2
}
